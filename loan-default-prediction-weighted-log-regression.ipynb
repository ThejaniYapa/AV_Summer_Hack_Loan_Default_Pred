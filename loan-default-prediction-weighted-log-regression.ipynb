{
 "cells": [
  {
   "cell_type": "markdown",
   "id": "3b0fe267",
   "metadata": {
    "papermill": {
     "duration": 0.013107,
     "end_time": "2022-08-05T12:41:15.244306",
     "exception": false,
     "start_time": "2022-08-05T12:41:15.231199",
     "status": "completed"
    },
    "tags": []
   },
   "source": [
    "# Problem Statement  \n",
    "MyHom is a finance company that lends housing loans at the best and most affordable interest rates to customers. In recent times, the company incurred heavy losses due to loan defaults. Most applicants failed to repay the loan as per the promissory note.\n",
    "In order to avoid such losses, the company has decided to build a system for identifying the loan defaulters automatically based on data. This will help the company to identify the potential applicants and ensure the smooth running of the entire process.\n",
    "\n",
    "Now, the company challenges the Data Science community to build a smart AI system to predict the probability of an applicant defaulting the loan or not in the future.\n",
    "You are provided with the past applicant’s data containing the demographic information, loan attributes, and target variable indicating if an applicant will default the loan or not."
   ]
  },
  {
   "cell_type": "markdown",
   "id": "9f18f037",
   "metadata": {
    "papermill": {
     "duration": 0.007236,
     "end_time": "2022-08-05T12:41:15.260089",
     "exception": false,
     "start_time": "2022-08-05T12:41:15.252853",
     "status": "completed"
    },
    "tags": []
   },
   "source": [
    "# Approach\n",
    "Feature Engineering\n",
    "* Encoding categorical data\n",
    "* Missing Values\n",
    "* Handling Outliers\n",
    "* Normalizing with MinMaxScaler\n",
    "* Feature selection\n",
    "* Class Imbalance (with Weighted Logistic Regression)\n",
    "\n",
    "Evaluting 3 models\n",
    "* Simple Logistic regression\n",
    "* Logistic Regression (class_weight=’balanced’)\n",
    "* Logistic Regression (manual class weights)"
   ]
  },
  {
   "cell_type": "code",
   "execution_count": 1,
   "id": "e95aa6e2",
   "metadata": {
    "_cell_guid": "b1076dfc-b9ad-4769-8c92-a6c4dae69d19",
    "_uuid": "8f2839f25d086af736a60e9eeb907d3b93b6e0e5",
    "execution": {
     "iopub.execute_input": "2022-08-05T12:41:15.280012Z",
     "iopub.status.busy": "2022-08-05T12:41:15.279000Z",
     "iopub.status.idle": "2022-08-05T12:41:15.296746Z",
     "shell.execute_reply": "2022-08-05T12:41:15.295883Z"
    },
    "papermill": {
     "duration": 0.031912,
     "end_time": "2022-08-05T12:41:15.299402",
     "exception": false,
     "start_time": "2022-08-05T12:41:15.267490",
     "status": "completed"
    },
    "tags": []
   },
   "outputs": [
    {
     "name": "stdout",
     "output_type": "stream",
     "text": [
      "/kaggle/input/loan-default-prediction/sample_submission_tbPU9qQ.csv\n",
      "/kaggle/input/loan-default-prediction/train_LZV4RXX.csv\n",
      "/kaggle/input/loan-default-prediction/test_4zJg83n.csv\n"
     ]
    }
   ],
   "source": [
    "import warnings\n",
    "warnings.filterwarnings('ignore')\n",
    "\n",
    "import numpy as np # linear algebra\n",
    "import pandas as pd # data processing, CSV file I/O (e.g. pd.read_csv)\n",
    "\n",
    "import os\n",
    "for dirname, _, filenames in os.walk('/kaggle/input'):\n",
    "    for filename in filenames:\n",
    "        print(os.path.join(dirname, filename))"
   ]
  },
  {
   "cell_type": "code",
   "execution_count": 2,
   "id": "d36440e1",
   "metadata": {
    "execution": {
     "iopub.execute_input": "2022-08-05T12:41:15.316217Z",
     "iopub.status.busy": "2022-08-05T12:41:15.315572Z",
     "iopub.status.idle": "2022-08-05T12:41:16.371902Z",
     "shell.execute_reply": "2022-08-05T12:41:16.370788Z"
    },
    "papermill": {
     "duration": 1.06774,
     "end_time": "2022-08-05T12:41:16.374694",
     "exception": false,
     "start_time": "2022-08-05T12:41:15.306954",
     "status": "completed"
    },
    "tags": []
   },
   "outputs": [],
   "source": [
    "import matplotlib.pyplot as plt\n",
    "import seaborn as sns"
   ]
  },
  {
   "cell_type": "code",
   "execution_count": 3,
   "id": "94ed7bfa",
   "metadata": {
    "execution": {
     "iopub.execute_input": "2022-08-05T12:41:16.390980Z",
     "iopub.status.busy": "2022-08-05T12:41:16.390595Z",
     "iopub.status.idle": "2022-08-05T12:41:16.440968Z",
     "shell.execute_reply": "2022-08-05T12:41:16.440196Z"
    },
    "papermill": {
     "duration": 0.061112,
     "end_time": "2022-08-05T12:41:16.443092",
     "exception": false,
     "start_time": "2022-08-05T12:41:16.381980",
     "status": "completed"
    },
    "tags": []
   },
   "outputs": [
    {
     "data": {
      "text/html": [
       "<div>\n",
       "<style scoped>\n",
       "    .dataframe tbody tr th:only-of-type {\n",
       "        vertical-align: middle;\n",
       "    }\n",
       "\n",
       "    .dataframe tbody tr th {\n",
       "        vertical-align: top;\n",
       "    }\n",
       "\n",
       "    .dataframe thead th {\n",
       "        text-align: right;\n",
       "    }\n",
       "</style>\n",
       "<table border=\"1\" class=\"dataframe\">\n",
       "  <thead>\n",
       "    <tr style=\"text-align: right;\">\n",
       "      <th></th>\n",
       "      <th>loan_id</th>\n",
       "      <th>age</th>\n",
       "      <th>education</th>\n",
       "      <th>proof_submitted</th>\n",
       "      <th>loan_amount</th>\n",
       "      <th>asset_cost</th>\n",
       "      <th>no_of_loans</th>\n",
       "      <th>no_of_curr_loans</th>\n",
       "      <th>last_delinq_none</th>\n",
       "      <th>loan_default</th>\n",
       "    </tr>\n",
       "  </thead>\n",
       "  <tbody>\n",
       "    <tr>\n",
       "      <th>0</th>\n",
       "      <td>1</td>\n",
       "      <td>27</td>\n",
       "      <td>1.0</td>\n",
       "      <td>Aadhar</td>\n",
       "      <td>504264</td>\n",
       "      <td>820920</td>\n",
       "      <td>2</td>\n",
       "      <td>2</td>\n",
       "      <td>0</td>\n",
       "      <td>0</td>\n",
       "    </tr>\n",
       "    <tr>\n",
       "      <th>1</th>\n",
       "      <td>2</td>\n",
       "      <td>48</td>\n",
       "      <td>1.0</td>\n",
       "      <td>Aadhar</td>\n",
       "      <td>728556</td>\n",
       "      <td>831444</td>\n",
       "      <td>6</td>\n",
       "      <td>2</td>\n",
       "      <td>0</td>\n",
       "      <td>0</td>\n",
       "    </tr>\n",
       "    <tr>\n",
       "      <th>2</th>\n",
       "      <td>3</td>\n",
       "      <td>30</td>\n",
       "      <td>2.0</td>\n",
       "      <td>VoterID</td>\n",
       "      <td>642936</td>\n",
       "      <td>826092</td>\n",
       "      <td>0</td>\n",
       "      <td>0</td>\n",
       "      <td>0</td>\n",
       "      <td>1</td>\n",
       "    </tr>\n",
       "    <tr>\n",
       "      <th>3</th>\n",
       "      <td>4</td>\n",
       "      <td>28</td>\n",
       "      <td>1.0</td>\n",
       "      <td>Aadhar</td>\n",
       "      <td>746556</td>\n",
       "      <td>930924</td>\n",
       "      <td>0</td>\n",
       "      <td>0</td>\n",
       "      <td>0</td>\n",
       "      <td>0</td>\n",
       "    </tr>\n",
       "    <tr>\n",
       "      <th>4</th>\n",
       "      <td>5</td>\n",
       "      <td>29</td>\n",
       "      <td>1.0</td>\n",
       "      <td>Aadhar</td>\n",
       "      <td>1139880</td>\n",
       "      <td>1902000</td>\n",
       "      <td>0</td>\n",
       "      <td>0</td>\n",
       "      <td>0</td>\n",
       "      <td>0</td>\n",
       "    </tr>\n",
       "  </tbody>\n",
       "</table>\n",
       "</div>"
      ],
      "text/plain": [
       "   loan_id  age  education proof_submitted  loan_amount  asset_cost  \\\n",
       "0        1   27        1.0          Aadhar       504264      820920   \n",
       "1        2   48        1.0          Aadhar       728556      831444   \n",
       "2        3   30        2.0         VoterID       642936      826092   \n",
       "3        4   28        1.0          Aadhar       746556      930924   \n",
       "4        5   29        1.0          Aadhar      1139880     1902000   \n",
       "\n",
       "   no_of_loans  no_of_curr_loans  last_delinq_none  loan_default  \n",
       "0            2                 2                 0             0  \n",
       "1            6                 2                 0             0  \n",
       "2            0                 0                 0             1  \n",
       "3            0                 0                 0             0  \n",
       "4            0                 0                 0             0  "
      ]
     },
     "metadata": {},
     "output_type": "display_data"
    }
   ],
   "source": [
    "# Import data\n",
    "train_r = pd.read_csv(\"../input/loan-default-prediction/train_LZV4RXX.csv\")\n",
    "test_r = pd.read_csv(\"../input/loan-default-prediction/test_4zJg83n.csv\")\n",
    "display(train_r.head(5))"
   ]
  },
  {
   "cell_type": "code",
   "execution_count": 4,
   "id": "fa6de108",
   "metadata": {
    "execution": {
     "iopub.execute_input": "2022-08-05T12:41:16.460533Z",
     "iopub.status.busy": "2022-08-05T12:41:16.459916Z",
     "iopub.status.idle": "2022-08-05T12:41:16.520122Z",
     "shell.execute_reply": "2022-08-05T12:41:16.519029Z"
    },
    "papermill": {
     "duration": 0.072186,
     "end_time": "2022-08-05T12:41:16.523134",
     "exception": false,
     "start_time": "2022-08-05T12:41:16.450948",
     "status": "completed"
    },
    "tags": []
   },
   "outputs": [
    {
     "data": {
      "text/html": [
       "<div>\n",
       "<style scoped>\n",
       "    .dataframe tbody tr th:only-of-type {\n",
       "        vertical-align: middle;\n",
       "    }\n",
       "\n",
       "    .dataframe tbody tr th {\n",
       "        vertical-align: top;\n",
       "    }\n",
       "\n",
       "    .dataframe thead th {\n",
       "        text-align: right;\n",
       "    }\n",
       "</style>\n",
       "<table border=\"1\" class=\"dataframe\">\n",
       "  <thead>\n",
       "    <tr style=\"text-align: right;\">\n",
       "      <th></th>\n",
       "      <th>loan_id</th>\n",
       "      <th>age</th>\n",
       "      <th>education</th>\n",
       "      <th>loan_amount</th>\n",
       "      <th>asset_cost</th>\n",
       "      <th>no_of_loans</th>\n",
       "      <th>no_of_curr_loans</th>\n",
       "      <th>last_delinq_none</th>\n",
       "      <th>loan_default</th>\n",
       "    </tr>\n",
       "  </thead>\n",
       "  <tbody>\n",
       "    <tr>\n",
       "      <th>count</th>\n",
       "      <td>7000.00</td>\n",
       "      <td>7000.000</td>\n",
       "      <td>6755.000</td>\n",
       "      <td>7000.000</td>\n",
       "      <td>7000.000</td>\n",
       "      <td>7000.000</td>\n",
       "      <td>7000.000</td>\n",
       "      <td>7000.000</td>\n",
       "      <td>7000.00</td>\n",
       "    </tr>\n",
       "    <tr>\n",
       "      <th>mean</th>\n",
       "      <td>3500.50</td>\n",
       "      <td>36.097</td>\n",
       "      <td>1.562</td>\n",
       "      <td>663355.173</td>\n",
       "      <td>916299.751</td>\n",
       "      <td>2.853</td>\n",
       "      <td>1.371</td>\n",
       "      <td>0.013</td>\n",
       "      <td>0.40</td>\n",
       "    </tr>\n",
       "    <tr>\n",
       "      <th>std</th>\n",
       "      <td>2020.87</td>\n",
       "      <td>7.588</td>\n",
       "      <td>0.496</td>\n",
       "      <td>149812.774</td>\n",
       "      <td>214492.245</td>\n",
       "      <td>5.472</td>\n",
       "      <td>2.189</td>\n",
       "      <td>0.115</td>\n",
       "      <td>0.49</td>\n",
       "    </tr>\n",
       "    <tr>\n",
       "      <th>min</th>\n",
       "      <td>1.00</td>\n",
       "      <td>21.000</td>\n",
       "      <td>1.000</td>\n",
       "      <td>167880.000</td>\n",
       "      <td>473352.000</td>\n",
       "      <td>0.000</td>\n",
       "      <td>0.000</td>\n",
       "      <td>0.000</td>\n",
       "      <td>0.00</td>\n",
       "    </tr>\n",
       "    <tr>\n",
       "      <th>25%</th>\n",
       "      <td>1750.75</td>\n",
       "      <td>29.000</td>\n",
       "      <td>1.000</td>\n",
       "      <td>577788.000</td>\n",
       "      <td>797901.000</td>\n",
       "      <td>0.000</td>\n",
       "      <td>0.000</td>\n",
       "      <td>0.000</td>\n",
       "      <td>0.00</td>\n",
       "    </tr>\n",
       "    <tr>\n",
       "      <th>50%</th>\n",
       "      <td>3500.50</td>\n",
       "      <td>36.000</td>\n",
       "      <td>2.000</td>\n",
       "      <td>657108.000</td>\n",
       "      <td>858426.000</td>\n",
       "      <td>0.000</td>\n",
       "      <td>0.000</td>\n",
       "      <td>0.000</td>\n",
       "      <td>0.00</td>\n",
       "    </tr>\n",
       "    <tr>\n",
       "      <th>75%</th>\n",
       "      <td>5250.25</td>\n",
       "      <td>43.000</td>\n",
       "      <td>2.000</td>\n",
       "      <td>737364.000</td>\n",
       "      <td>957675.000</td>\n",
       "      <td>3.000</td>\n",
       "      <td>2.000</td>\n",
       "      <td>0.000</td>\n",
       "      <td>1.00</td>\n",
       "    </tr>\n",
       "    <tr>\n",
       "      <th>max</th>\n",
       "      <td>7000.00</td>\n",
       "      <td>50.000</td>\n",
       "      <td>2.000</td>\n",
       "      <td>1781376.000</td>\n",
       "      <td>2419200.000</td>\n",
       "      <td>109.000</td>\n",
       "      <td>33.000</td>\n",
       "      <td>1.000</td>\n",
       "      <td>1.00</td>\n",
       "    </tr>\n",
       "  </tbody>\n",
       "</table>\n",
       "</div>"
      ],
      "text/plain": [
       "       loan_id       age  education  loan_amount   asset_cost  no_of_loans  \\\n",
       "count  7000.00  7000.000   6755.000     7000.000     7000.000     7000.000   \n",
       "mean   3500.50    36.097      1.562   663355.173   916299.751        2.853   \n",
       "std    2020.87     7.588      0.496   149812.774   214492.245        5.472   \n",
       "min       1.00    21.000      1.000   167880.000   473352.000        0.000   \n",
       "25%    1750.75    29.000      1.000   577788.000   797901.000        0.000   \n",
       "50%    3500.50    36.000      2.000   657108.000   858426.000        0.000   \n",
       "75%    5250.25    43.000      2.000   737364.000   957675.000        3.000   \n",
       "max    7000.00    50.000      2.000  1781376.000  2419200.000      109.000   \n",
       "\n",
       "       no_of_curr_loans  last_delinq_none  loan_default  \n",
       "count          7000.000          7000.000       7000.00  \n",
       "mean              1.371             0.013          0.40  \n",
       "std               2.189             0.115          0.49  \n",
       "min               0.000             0.000          0.00  \n",
       "25%               0.000             0.000          0.00  \n",
       "50%               0.000             0.000          0.00  \n",
       "75%               2.000             0.000          1.00  \n",
       "max              33.000             1.000          1.00  "
      ]
     },
     "execution_count": 4,
     "metadata": {},
     "output_type": "execute_result"
    }
   ],
   "source": [
    "train_r.describe().round(3)"
   ]
  },
  {
   "cell_type": "markdown",
   "id": "c5d60646",
   "metadata": {
    "papermill": {
     "duration": 0.012977,
     "end_time": "2022-08-05T12:41:16.547149",
     "exception": false,
     "start_time": "2022-08-05T12:41:16.534172",
     "status": "completed"
    },
    "tags": []
   },
   "source": [
    "Missing Values: education  \n",
    "Outliers can be in: no_of_loans,no_of_curr_loans  \n",
    "categorical data: proof_submitted     "
   ]
  },
  {
   "cell_type": "code",
   "execution_count": 5,
   "id": "65943b7c",
   "metadata": {
    "execution": {
     "iopub.execute_input": "2022-08-05T12:41:16.566904Z",
     "iopub.status.busy": "2022-08-05T12:41:16.565839Z",
     "iopub.status.idle": "2022-08-05T12:41:16.573322Z",
     "shell.execute_reply": "2022-08-05T12:41:16.572582Z"
    },
    "papermill": {
     "duration": 0.019199,
     "end_time": "2022-08-05T12:41:16.575554",
     "exception": false,
     "start_time": "2022-08-05T12:41:16.556355",
     "status": "completed"
    },
    "tags": []
   },
   "outputs": [],
   "source": [
    "train_r.drop(columns=['loan_id'],inplace=True)\n",
    "test_r.drop(columns=['loan_id'],inplace=True)"
   ]
  },
  {
   "cell_type": "code",
   "execution_count": 6,
   "id": "444c5787",
   "metadata": {
    "execution": {
     "iopub.execute_input": "2022-08-05T12:41:16.596211Z",
     "iopub.status.busy": "2022-08-05T12:41:16.595441Z",
     "iopub.status.idle": "2022-08-05T12:41:16.928222Z",
     "shell.execute_reply": "2022-08-05T12:41:16.927016Z"
    },
    "papermill": {
     "duration": 0.346695,
     "end_time": "2022-08-05T12:41:16.930613",
     "exception": false,
     "start_time": "2022-08-05T12:41:16.583918",
     "status": "completed"
    },
    "tags": []
   },
   "outputs": [
    {
     "data": {
      "text/html": [
       "<div>\n",
       "<style scoped>\n",
       "    .dataframe tbody tr th:only-of-type {\n",
       "        vertical-align: middle;\n",
       "    }\n",
       "\n",
       "    .dataframe tbody tr th {\n",
       "        vertical-align: top;\n",
       "    }\n",
       "\n",
       "    .dataframe thead th {\n",
       "        text-align: right;\n",
       "    }\n",
       "</style>\n",
       "<table border=\"1\" class=\"dataframe\">\n",
       "  <thead>\n",
       "    <tr style=\"text-align: right;\">\n",
       "      <th></th>\n",
       "      <th>age</th>\n",
       "      <th>education</th>\n",
       "      <th>loan_amount</th>\n",
       "      <th>asset_cost</th>\n",
       "      <th>no_of_loans</th>\n",
       "      <th>no_of_curr_loans</th>\n",
       "      <th>last_delinq_none</th>\n",
       "      <th>loan_default</th>\n",
       "      <th>proof_submitted_0</th>\n",
       "      <th>proof_submitted_1</th>\n",
       "      <th>proof_submitted_2</th>\n",
       "    </tr>\n",
       "  </thead>\n",
       "  <tbody>\n",
       "    <tr>\n",
       "      <th>0</th>\n",
       "      <td>27</td>\n",
       "      <td>1.0</td>\n",
       "      <td>504264</td>\n",
       "      <td>820920</td>\n",
       "      <td>2</td>\n",
       "      <td>2</td>\n",
       "      <td>0</td>\n",
       "      <td>0</td>\n",
       "      <td>0</td>\n",
       "      <td>0</td>\n",
       "      <td>1</td>\n",
       "    </tr>\n",
       "    <tr>\n",
       "      <th>1</th>\n",
       "      <td>48</td>\n",
       "      <td>1.0</td>\n",
       "      <td>728556</td>\n",
       "      <td>831444</td>\n",
       "      <td>6</td>\n",
       "      <td>2</td>\n",
       "      <td>0</td>\n",
       "      <td>0</td>\n",
       "      <td>0</td>\n",
       "      <td>0</td>\n",
       "      <td>1</td>\n",
       "    </tr>\n",
       "    <tr>\n",
       "      <th>2</th>\n",
       "      <td>30</td>\n",
       "      <td>2.0</td>\n",
       "      <td>642936</td>\n",
       "      <td>826092</td>\n",
       "      <td>0</td>\n",
       "      <td>0</td>\n",
       "      <td>0</td>\n",
       "      <td>1</td>\n",
       "      <td>0</td>\n",
       "      <td>1</td>\n",
       "      <td>0</td>\n",
       "    </tr>\n",
       "    <tr>\n",
       "      <th>3</th>\n",
       "      <td>28</td>\n",
       "      <td>1.0</td>\n",
       "      <td>746556</td>\n",
       "      <td>930924</td>\n",
       "      <td>0</td>\n",
       "      <td>0</td>\n",
       "      <td>0</td>\n",
       "      <td>0</td>\n",
       "      <td>0</td>\n",
       "      <td>0</td>\n",
       "      <td>1</td>\n",
       "    </tr>\n",
       "    <tr>\n",
       "      <th>4</th>\n",
       "      <td>29</td>\n",
       "      <td>1.0</td>\n",
       "      <td>1139880</td>\n",
       "      <td>1902000</td>\n",
       "      <td>0</td>\n",
       "      <td>0</td>\n",
       "      <td>0</td>\n",
       "      <td>0</td>\n",
       "      <td>0</td>\n",
       "      <td>0</td>\n",
       "      <td>1</td>\n",
       "    </tr>\n",
       "  </tbody>\n",
       "</table>\n",
       "</div>"
      ],
      "text/plain": [
       "   age  education  loan_amount  asset_cost  no_of_loans  no_of_curr_loans  \\\n",
       "0   27        1.0       504264      820920            2                 2   \n",
       "1   48        1.0       728556      831444            6                 2   \n",
       "2   30        2.0       642936      826092            0                 0   \n",
       "3   28        1.0       746556      930924            0                 0   \n",
       "4   29        1.0      1139880     1902000            0                 0   \n",
       "\n",
       "   last_delinq_none  loan_default  proof_submitted_0  proof_submitted_1  \\\n",
       "0                 0             0                  0                  0   \n",
       "1                 0             0                  0                  0   \n",
       "2                 0             1                  0                  1   \n",
       "3                 0             0                  0                  0   \n",
       "4                 0             0                  0                  0   \n",
       "\n",
       "   proof_submitted_2  \n",
       "0                  1  \n",
       "1                  1  \n",
       "2                  0  \n",
       "3                  1  \n",
       "4                  1  "
      ]
     },
     "execution_count": 6,
     "metadata": {},
     "output_type": "execute_result"
    }
   ],
   "source": [
    "import category_encoders as ce\n",
    "\n",
    "bin_enc = ce.BinaryEncoder()\n",
    "train_oe=train_r.drop(columns=['proof_submitted'])\n",
    "train_oe[['proof_submitted_0','proof_submitted_1','proof_submitted_2']] = bin_enc.fit_transform(train_r.proof_submitted)\n",
    "test_oe=test_r.drop(columns=['proof_submitted'])\n",
    "test_oe[['proof_submitted_0','proof_submitted_1','proof_submitted_2']]= bin_enc.transform(test_r.proof_submitted)\n",
    "train_oe.head()"
   ]
  },
  {
   "cell_type": "code",
   "execution_count": 7,
   "id": "b7009965",
   "metadata": {
    "execution": {
     "iopub.execute_input": "2022-08-05T12:41:16.950076Z",
     "iopub.status.busy": "2022-08-05T12:41:16.949518Z",
     "iopub.status.idle": "2022-08-05T12:41:17.297450Z",
     "shell.execute_reply": "2022-08-05T12:41:17.296607Z"
    },
    "papermill": {
     "duration": 0.359653,
     "end_time": "2022-08-05T12:41:17.299471",
     "exception": false,
     "start_time": "2022-08-05T12:41:16.939818",
     "status": "completed"
    },
    "tags": []
   },
   "outputs": [
    {
     "data": {
      "image/png": "[encoded data removed]",
      "text/plain": [
       "<Figure size 216x216 with 1 Axes>"
      ]
     },
     "metadata": {
      "needs_background": "light"
     },
     "output_type": "display_data"
    }
   ],
   "source": [
    "# Missing Values\n",
    "sns.displot(train_oe.education,height=3) \n",
    "\n",
    "#imputation with mean\n",
    "train_oe.education.fillna(train_oe.education.mean(),inplace=True )\n",
    "test_oe.education.fillna(train_oe.education.mean(),inplace=True )\n",
    "#train_oe.describe()"
   ]
  },
  {
   "cell_type": "code",
   "execution_count": 8,
   "id": "88bb02f4",
   "metadata": {
    "execution": {
     "iopub.execute_input": "2022-08-05T12:41:17.317906Z",
     "iopub.status.busy": "2022-08-05T12:41:17.317331Z",
     "iopub.status.idle": "2022-08-05T12:41:17.513227Z",
     "shell.execute_reply": "2022-08-05T12:41:17.512193Z"
    },
    "papermill": {
     "duration": 0.207553,
     "end_time": "2022-08-05T12:41:17.515458",
     "exception": false,
     "start_time": "2022-08-05T12:41:17.307905",
     "status": "completed"
    },
    "tags": []
   },
   "outputs": [
    {
     "data": {
      "image/png": "[encoded data removed]",
      "text/plain": [
       "<Figure size 432x288 with 1 Axes>"
      ]
     },
     "metadata": {
      "needs_background": "light"
     },
     "output_type": "display_data"
    }
   ],
   "source": [
    "# Outliers\n",
    "sns.boxplot(x=\"variable\", y=\"value\", data=pd.melt(train_oe[[\"no_of_loans\",\"no_of_curr_loans\"]]))\n",
    "plt.show()"
   ]
  },
  {
   "cell_type": "code",
   "execution_count": 9,
   "id": "89d8ef9a",
   "metadata": {
    "execution": {
     "iopub.execute_input": "2022-08-05T12:41:17.534582Z",
     "iopub.status.busy": "2022-08-05T12:41:17.533880Z",
     "iopub.status.idle": "2022-08-05T12:41:17.551927Z",
     "shell.execute_reply": "2022-08-05T12:41:17.550473Z"
    },
    "papermill": {
     "duration": 0.030065,
     "end_time": "2022-08-05T12:41:17.554238",
     "exception": false,
     "start_time": "2022-08-05T12:41:17.524173",
     "status": "completed"
    },
    "tags": []
   },
   "outputs": [
    {
     "name": "stdout",
     "output_type": "stream",
     "text": [
      "no_of_loans         12.0\n",
      "no_of_curr_loans     5.0\n",
      "Name: 0.95, dtype: float64\n"
     ]
    },
    {
     "data": {
      "text/plain": [
       "(6868, 11)"
      ]
     },
     "execution_count": 9,
     "metadata": {},
     "output_type": "execute_result"
    }
   ],
   "source": [
    "Q3 = train_oe[[\"no_of_loans\",\"no_of_curr_loans\"]].quantile(0.95)\n",
    "print(Q3)\n",
    "train_t=train_oe\n",
    "test_t=test_oe\n",
    "train_t.drop(train_t[train_t.no_of_loans >= 24.0 ].index, inplace=True)\n",
    "train_t.drop(train_t[train_t.no_of_curr_loans >= 9.0 ].index, inplace=True)\n",
    "train_t.shape"
   ]
  },
  {
   "cell_type": "code",
   "execution_count": 10,
   "id": "c0d73525",
   "metadata": {
    "execution": {
     "iopub.execute_input": "2022-08-05T12:41:17.573946Z",
     "iopub.status.busy": "2022-08-05T12:41:17.573559Z",
     "iopub.status.idle": "2022-08-05T12:41:17.751399Z",
     "shell.execute_reply": "2022-08-05T12:41:17.750327Z"
    },
    "papermill": {
     "duration": 0.19036,
     "end_time": "2022-08-05T12:41:17.753741",
     "exception": false,
     "start_time": "2022-08-05T12:41:17.563381",
     "status": "completed"
    },
    "tags": []
   },
   "outputs": [
    {
     "data": {
      "image/png": "[encoded data removed]",
      "text/plain": [
       "<Figure size 432x288 with 1 Axes>"
      ]
     },
     "metadata": {
      "needs_background": "light"
     },
     "output_type": "display_data"
    }
   ],
   "source": [
    "#Class imbalance\n",
    "import seaborn as sns\n",
    "sns.countplot(train_t['loan_default']);"
   ]
  },
  {
   "cell_type": "code",
   "execution_count": 11,
   "id": "8f64962c",
   "metadata": {
    "execution": {
     "iopub.execute_input": "2022-08-05T12:41:17.772947Z",
     "iopub.status.busy": "2022-08-05T12:41:17.772632Z",
     "iopub.status.idle": "2022-08-05T12:41:17.778090Z",
     "shell.execute_reply": "2022-08-05T12:41:17.777073Z"
    },
    "papermill": {
     "duration": 0.018744,
     "end_time": "2022-08-05T12:41:17.781272",
     "exception": false,
     "start_time": "2022-08-05T12:41:17.762528",
     "status": "completed"
    },
    "tags": []
   },
   "outputs": [
    {
     "name": "stdout",
     "output_type": "stream",
     "text": [
      "Index(['age', 'education', 'loan_amount', 'asset_cost', 'no_of_loans',\n",
      "       'no_of_curr_loans', 'last_delinq_none', 'loan_default',\n",
      "       'proof_submitted_0', 'proof_submitted_1', 'proof_submitted_2'],\n",
      "      dtype='object')\n"
     ]
    }
   ],
   "source": [
    "print(train_t.columns)\n",
    "feature_col=['age', 'education', 'loan_amount', 'asset_cost', 'no_of_loans','no_of_curr_loans', 'proof_submitted_0', 'proof_submitted_2'] #'last_delinq_none','proof_submitted_1', "
   ]
  },
  {
   "cell_type": "code",
   "execution_count": 12,
   "id": "7fcd46d9",
   "metadata": {
    "execution": {
     "iopub.execute_input": "2022-08-05T12:41:17.800731Z",
     "iopub.status.busy": "2022-08-05T12:41:17.800385Z",
     "iopub.status.idle": "2022-08-05T12:41:17.847346Z",
     "shell.execute_reply": "2022-08-05T12:41:17.845997Z"
    },
    "papermill": {
     "duration": 0.059828,
     "end_time": "2022-08-05T12:41:17.850088",
     "exception": false,
     "start_time": "2022-08-05T12:41:17.790260",
     "status": "completed"
    },
    "tags": []
   },
   "outputs": [
    {
     "name": "stdout",
     "output_type": "stream",
     "text": [
      "(6868, 8)\n",
      "(3000, 8)\n"
     ]
    }
   ],
   "source": [
    "from sklearn.preprocessing import MinMaxScaler\n",
    "scaler = MinMaxScaler()\n",
    "scaler.fit(train_t[feature_col])\n",
    "scaled = scaler.fit_transform(train_t[feature_col])\n",
    "train_n = pd.DataFrame(scaled, columns=train_t[feature_col].columns)\n",
    "\n",
    "scaled_n = scaler.transform(test_t[feature_col])\n",
    "test_n = pd.DataFrame(scaled_n, columns=test_t[feature_col].columns)\n",
    "\n",
    "print(train_n.shape)\n",
    "print(test_n.shape)"
   ]
  },
  {
   "cell_type": "code",
   "execution_count": 13,
   "id": "8f32fd78",
   "metadata": {
    "execution": {
     "iopub.execute_input": "2022-08-05T12:41:17.871751Z",
     "iopub.status.busy": "2022-08-05T12:41:17.871379Z",
     "iopub.status.idle": "2022-08-05T12:41:17.997176Z",
     "shell.execute_reply": "2022-08-05T12:41:17.996249Z"
    },
    "papermill": {
     "duration": 0.139648,
     "end_time": "2022-08-05T12:41:17.999952",
     "exception": false,
     "start_time": "2022-08-05T12:41:17.860304",
     "status": "completed"
    },
    "tags": []
   },
   "outputs": [],
   "source": [
    "from sklearn.model_selection import train_test_split\n",
    "from sklearn.linear_model import LogisticRegression\n",
    "from sklearn.metrics import f1_score,confusion_matrix,classification_report\n",
    "from sklearn.model_selection import cross_val_score\n",
    "x_train,x_test,y_train,y_test= train_test_split(train_n[feature_col],train_t['loan_default'],test_size=0.25,random_state=42)"
   ]
  },
  {
   "cell_type": "code",
   "execution_count": 14,
   "id": "873a8a23",
   "metadata": {
    "execution": {
     "iopub.execute_input": "2022-08-05T12:41:18.020236Z",
     "iopub.status.busy": "2022-08-05T12:41:18.019839Z",
     "iopub.status.idle": "2022-08-05T12:41:18.026350Z",
     "shell.execute_reply": "2022-08-05T12:41:18.025226Z"
    },
    "papermill": {
     "duration": 0.019243,
     "end_time": "2022-08-05T12:41:18.028471",
     "exception": false,
     "start_time": "2022-08-05T12:41:18.009228",
     "status": "completed"
    },
    "tags": []
   },
   "outputs": [],
   "source": [
    "def conf_matrix(y_test, pred_test):    \n",
    "    # Creating a confusion matrix\n",
    "    con_mat = confusion_matrix(y_test, pred_test)\n",
    "    con_mat = pd.DataFrame(con_mat, range(2), range(2))\n",
    "   \n",
    "    #Ploting the confusion matrix\n",
    "    plt.figure(figsize=(3,3))\n",
    "    sns.set(font_scale=1.5) \n",
    "    sns.heatmap(con_mat, annot=True, annot_kws={\"size\": 16}, fmt='g', cmap='Blues', cbar=False)"
   ]
  },
  {
   "cell_type": "markdown",
   "id": "8b84be9a",
   "metadata": {
    "papermill": {
     "duration": 0.008777,
     "end_time": "2022-08-05T12:41:18.046365",
     "exception": false,
     "start_time": "2022-08-05T12:41:18.037588",
     "status": "completed"
    },
    "tags": []
   },
   "source": [
    "# Simple Logistic Regression"
   ]
  },
  {
   "cell_type": "code",
   "execution_count": 15,
   "id": "f9832fed",
   "metadata": {
    "execution": {
     "iopub.execute_input": "2022-08-05T12:41:18.066273Z",
     "iopub.status.busy": "2022-08-05T12:41:18.065893Z",
     "iopub.status.idle": "2022-08-05T12:41:18.143303Z",
     "shell.execute_reply": "2022-08-05T12:41:18.141712Z"
    },
    "papermill": {
     "duration": 0.092608,
     "end_time": "2022-08-05T12:41:18.148205",
     "exception": false,
     "start_time": "2022-08-05T12:41:18.055597",
     "status": "completed"
    },
    "tags": []
   },
   "outputs": [
    {
     "name": "stdout",
     "output_type": "stream",
     "text": [
      "The f1 score for the testing data: 0.17412935323383086\n"
     ]
    }
   ],
   "source": [
    "s_lr = LogisticRegression(solver='newton-cg')\n",
    "s_lr.fit(x_train, y_train)\n",
    "pred_test = s_lr.predict(x_test)\n",
    "f1_test = f1_score(y_test, pred_test)\n",
    "print('The f1 score for the testing data:', f1_test)"
   ]
  },
  {
   "cell_type": "code",
   "execution_count": 16,
   "id": "cb543846",
   "metadata": {
    "execution": {
     "iopub.execute_input": "2022-08-05T12:41:18.200991Z",
     "iopub.status.busy": "2022-08-05T12:41:18.200121Z",
     "iopub.status.idle": "2022-08-05T12:41:18.399400Z",
     "shell.execute_reply": "2022-08-05T12:41:18.398644Z"
    },
    "papermill": {
     "duration": 0.228187,
     "end_time": "2022-08-05T12:41:18.401508",
     "exception": false,
     "start_time": "2022-08-05T12:41:18.173321",
     "status": "completed"
    },
    "tags": []
   },
   "outputs": [
    {
     "name": "stdout",
     "output_type": "stream",
     "text": [
      "              precision    recall  f1-score   support\n",
      "\n",
      "           0       0.62      0.93      0.75      1053\n",
      "           1       0.50      0.11      0.17       664\n",
      "\n",
      "    accuracy                           0.61      1717\n",
      "   macro avg       0.56      0.52      0.46      1717\n",
      "weighted avg       0.58      0.61      0.53      1717\n",
      "\n"
     ]
    },
    {
     "data": {
      "image/png": "[encoded data removed]",
      "text/plain": [
       "<Figure size 216x216 with 1 Axes>"
      ]
     },
     "metadata": {
      "needs_background": "light"
     },
     "output_type": "display_data"
    }
   ],
   "source": [
    "conf_matrix(y_test, pred_test)\n",
    "print(classification_report(y_test,pred_test))"
   ]
  },
  {
   "cell_type": "code",
   "execution_count": 17,
   "id": "665106cc",
   "metadata": {
    "execution": {
     "iopub.execute_input": "2022-08-05T12:41:18.422624Z",
     "iopub.status.busy": "2022-08-05T12:41:18.421992Z",
     "iopub.status.idle": "2022-08-05T12:41:23.220689Z",
     "shell.execute_reply": "2022-08-05T12:41:23.219272Z"
    },
    "papermill": {
     "duration": 4.815321,
     "end_time": "2022-08-05T12:41:23.226898",
     "exception": false,
     "start_time": "2022-08-05T12:41:18.411577",
     "status": "completed"
    },
    "tags": []
   },
   "outputs": [
    {
     "name": "stdout",
     "output_type": "stream",
     "text": [
      "[0.59170306 0.59898108 0.60334789 0.59650401 0.60451566]\n"
     ]
    }
   ],
   "source": [
    "slr_scores = cross_val_score(s_lr, train_t[feature_col],train_t['loan_default'], cv=5)\n",
    "print(slr_scores)"
   ]
  },
  {
   "cell_type": "markdown",
   "id": "3447e5cb",
   "metadata": {
    "papermill": {
     "duration": 0.023769,
     "end_time": "2022-08-05T12:41:23.276327",
     "exception": false,
     "start_time": "2022-08-05T12:41:23.252558",
     "status": "completed"
    },
    "tags": []
   },
   "source": [
    "# Logistic Regression (class_weight=’balanced’):"
   ]
  },
  {
   "cell_type": "code",
   "execution_count": 18,
   "id": "f21eb09b",
   "metadata": {
    "execution": {
     "iopub.execute_input": "2022-08-05T12:41:23.326484Z",
     "iopub.status.busy": "2022-08-05T12:41:23.325818Z",
     "iopub.status.idle": "2022-08-05T12:41:23.392662Z",
     "shell.execute_reply": "2022-08-05T12:41:23.391248Z"
    },
    "papermill": {
     "duration": 0.098234,
     "end_time": "2022-08-05T12:41:23.398381",
     "exception": false,
     "start_time": "2022-08-05T12:41:23.300147",
     "status": "completed"
    },
    "tags": []
   },
   "outputs": [
    {
     "name": "stdout",
     "output_type": "stream",
     "text": [
      "The f1 score for the testing data: 0.5311475409836066\n"
     ]
    }
   ],
   "source": [
    "b_lr = LogisticRegression(solver='newton-cg', class_weight='balanced')\n",
    "b_lr.fit(x_train, y_train)\n",
    "pred_test = b_lr.predict(x_test)\n",
    "f1_test = f1_score(y_test, pred_test)\n",
    "print('The f1 score for the testing data:', f1_test)"
   ]
  },
  {
   "cell_type": "code",
   "execution_count": 19,
   "id": "55dc6e20",
   "metadata": {
    "execution": {
     "iopub.execute_input": "2022-08-05T12:41:23.450435Z",
     "iopub.status.busy": "2022-08-05T12:41:23.449795Z",
     "iopub.status.idle": "2022-08-05T12:41:23.628959Z",
     "shell.execute_reply": "2022-08-05T12:41:23.627852Z"
    },
    "papermill": {
     "duration": 0.207689,
     "end_time": "2022-08-05T12:41:23.631189",
     "exception": false,
     "start_time": "2022-08-05T12:41:23.423500",
     "status": "completed"
    },
    "tags": []
   },
   "outputs": [
    {
     "name": "stdout",
     "output_type": "stream",
     "text": [
      "              precision    recall  f1-score   support\n",
      "\n",
      "           0       0.70      0.57      0.63      1053\n",
      "           1       0.47      0.61      0.53       664\n",
      "\n",
      "    accuracy                           0.58      1717\n",
      "   macro avg       0.58      0.59      0.58      1717\n",
      "weighted avg       0.61      0.58      0.59      1717\n",
      "\n"
     ]
    },
    {
     "data": {
      "image/png": "[encoded data removed]",
      "text/plain": [
       "<Figure size 216x216 with 1 Axes>"
      ]
     },
     "metadata": {},
     "output_type": "display_data"
    }
   ],
   "source": [
    "conf_matrix(y_test, pred_test)\n",
    "print(classification_report(y_test,pred_test))"
   ]
  },
  {
   "cell_type": "code",
   "execution_count": 20,
   "id": "43f09394",
   "metadata": {
    "execution": {
     "iopub.execute_input": "2022-08-05T12:41:23.652684Z",
     "iopub.status.busy": "2022-08-05T12:41:23.652264Z",
     "iopub.status.idle": "2022-08-05T12:41:28.672089Z",
     "shell.execute_reply": "2022-08-05T12:41:28.670376Z"
    },
    "papermill": {
     "duration": 5.035853,
     "end_time": "2022-08-05T12:41:28.677040",
     "exception": false,
     "start_time": "2022-08-05T12:41:23.641187",
     "status": "completed"
    },
    "tags": []
   },
   "outputs": [
    {
     "name": "stdout",
     "output_type": "stream",
     "text": [
      "[0.55749636 0.56914119 0.57714702 0.55280408 0.58994902]\n"
     ]
    }
   ],
   "source": [
    "blr_scores = cross_val_score(b_lr, train_t[feature_col],train_t['loan_default'], cv=5)\n",
    "print(blr_scores)"
   ]
  },
  {
   "cell_type": "markdown",
   "id": "e98317f1",
   "metadata": {
    "papermill": {
     "duration": 0.026809,
     "end_time": "2022-08-05T12:41:28.729881",
     "exception": false,
     "start_time": "2022-08-05T12:41:28.703072",
     "status": "completed"
    },
    "tags": []
   },
   "source": [
    "# Logistic Regression (manual class weights):"
   ]
  },
  {
   "cell_type": "code",
   "execution_count": 21,
   "id": "4f18902b",
   "metadata": {
    "execution": {
     "iopub.execute_input": "2022-08-05T12:41:28.782486Z",
     "iopub.status.busy": "2022-08-05T12:41:28.781847Z",
     "iopub.status.idle": "2022-08-05T12:41:41.616808Z",
     "shell.execute_reply": "2022-08-05T12:41:41.615448Z"
    },
    "papermill": {
     "duration": 12.866569,
     "end_time": "2022-08-05T12:41:41.621322",
     "exception": false,
     "start_time": "2022-08-05T12:41:28.754753",
     "status": "completed"
    },
    "tags": []
   },
   "outputs": [
    {
     "name": "stdout",
     "output_type": "stream",
     "text": [
      "Fitting 5 folds for each of 200 candidates, totalling 1000 fits\n",
      "[CV] END ......................class_weight={0: 0.0, 1: 1.0}; total time=   0.1s\n",
      "[CV] END class_weight={0: 0.004974874371859297, 1: 0.9950251256281407}; total time=   0.0s\n",
      "[CV] END class_weight={0: 0.004974874371859297, 1: 0.9950251256281407}; total time=   0.0s\n",
      "[CV] END class_weight={0: 0.009949748743718593, 1: 0.9900502512562814}; total time=   0.0s\n",
      "[CV] END class_weight={0: 0.014924623115577889, 1: 0.9850753768844221}; total time=   0.0s\n",
      "[CV] END class_weight={0: 0.014924623115577889, 1: 0.9850753768844221}; total time=   0.0s\n",
      "[CV] END class_weight={0: 0.019899497487437186, 1: 0.9801005025125629}; total time=   0.0s\n",
      "[CV] END class_weight={0: 0.024874371859296484, 1: 0.9751256281407035}; total time=   0.0s\n",
      "[CV] END class_weight={0: 0.029849246231155778, 1: 0.9701507537688442}; total time=   0.0s\n",
      "[CV] END class_weight={0: 0.034824120603015075, 1: 0.9651758793969849}; total time=   0.0s\n",
      "[CV] END class_weight={0: 0.03979899497487437, 1: 0.9602010050251256}; total time=   0.0s\n",
      "[CV] END class_weight={0: 0.03979899497487437, 1: 0.9602010050251256}; total time=   0.0s\n",
      "[CV] END class_weight={0: 0.054723618090452265, 1: 0.9452763819095478}; total time=   0.1s\n",
      "[CV] END class_weight={0: 0.054723618090452265, 1: 0.9452763819095478}; total time=   0.0s\n",
      "[CV] END class_weight={0: 0.054723618090452265, 1: 0.9452763819095478}; total time=   0.0s\n",
      "[CV] END class_weight={0: 0.054723618090452265, 1: 0.9452763819095478}; total time=   0.0s\n",
      "[CV] END class_weight={0: 0.06964824120603015, 1: 0.9303517587939698}; total time=   0.0s\n",
      "[CV] END class_weight={0: 0.06964824120603015, 1: 0.9303517587939698}; total time=   0.0s\n",
      "[CV] END class_weight={0: 0.06964824120603015, 1: 0.9303517587939698}; total time=   0.0s\n",
      "[CV] END class_weight={0: 0.07462311557788945, 1: 0.9253768844221105}; total time=   0.0s\n",
      "[CV] END class_weight={0: 0.08457286432160804, 1: 0.915427135678392}; total time=   0.0s\n",
      "[CV] END class_weight={0: 0.08457286432160804, 1: 0.915427135678392}; total time=   0.0s\n",
      "[CV] END class_weight={0: 0.08954773869346734, 1: 0.9104522613065327}; total time=   0.0s\n",
      "[CV] END class_weight={0: 0.08954773869346734, 1: 0.9104522613065327}; total time=   0.0s\n",
      "[CV] END class_weight={0: 0.09949748743718594, 1: 0.9005025125628141}; total time=   0.0s\n",
      "[CV] END class_weight={0: 0.10447236180904523, 1: 0.8955276381909547}; total time=   0.0s\n",
      "[CV] END class_weight={0: 0.10447236180904523, 1: 0.8955276381909547}; total time=   0.0s\n",
      "[CV] END class_weight={0: 0.10447236180904523, 1: 0.8955276381909547}; total time=   0.0s\n",
      "[CV] END class_weight={0: 0.11939698492462311, 1: 0.8806030150753769}; total time=   0.0s\n",
      "[CV] END class_weight={0: 0.11939698492462311, 1: 0.8806030150753769}; total time=   0.0s\n",
      "[CV] END class_weight={0: 0.11939698492462311, 1: 0.8806030150753769}; total time=   0.0s\n",
      "[CV] END class_weight={0: 0.11939698492462311, 1: 0.8806030150753769}; total time=   0.0s\n",
      "[CV] END class_weight={0: 0.13432160804020102, 1: 0.865678391959799}; total time=   0.0s\n",
      "[CV] END class_weight={0: 0.13432160804020102, 1: 0.865678391959799}; total time=   0.0s\n",
      "[CV] END class_weight={0: 0.13432160804020102, 1: 0.865678391959799}; total time=   0.0s\n",
      "[CV] END class_weight={0: 0.13432160804020102, 1: 0.865678391959799}; total time=   0.0s\n",
      "[CV] END class_weight={0: 0.1492462311557789, 1: 0.850753768844221}; total time=   0.0s\n",
      "[CV] END class_weight={0: 0.1492462311557789, 1: 0.850753768844221}; total time=   0.0s\n",
      "[CV] END class_weight={0: 0.1492462311557789, 1: 0.850753768844221}; total time=   0.0s\n",
      "[CV] END class_weight={0: 0.1542211055276382, 1: 0.8457788944723618}; total time=   0.0s\n",
      "[CV] END class_weight={0: 0.16417085427135678, 1: 0.8358291457286432}; total time=   0.0s\n",
      "[CV] END class_weight={0: 0.16417085427135678, 1: 0.8358291457286432}; total time=   0.0s\n",
      "[CV] END class_weight={0: 0.1691457286432161, 1: 0.8308542713567839}; total time=   0.0s\n",
      "[CV] END class_weight={0: 0.1691457286432161, 1: 0.8308542713567839}; total time=   0.0s\n",
      "[CV] END class_weight={0: 0.17909547738693468, 1: 0.8209045226130653}; total time=   0.0s\n",
      "[CV] END class_weight={0: 0.18407035175879397, 1: 0.8159296482412061}; total time=   0.0s\n",
      "[CV] END class_weight={0: 0.18407035175879397, 1: 0.8159296482412061}; total time=   0.0s\n",
      "[CV] END class_weight={0: 0.18407035175879397, 1: 0.8159296482412061}; total time=   0.0s\n",
      "[CV] END class_weight={0: 0.19899497487437187, 1: 0.8010050251256281}; total time=   0.0s\n",
      "[CV] END class_weight={0: 0.19899497487437187, 1: 0.8010050251256281}; total time=   0.0s\n",
      "[CV] END class_weight={0: 0.19899497487437187, 1: 0.8010050251256281}; total time=   0.0s\n",
      "[CV] END class_weight={0: 0.19899497487437187, 1: 0.8010050251256281}; total time=   0.0s\n",
      "[CV] END class_weight={0: 0.21391959798994975, 1: 0.7860804020100502}; total time=   0.0s\n",
      "[CV] END class_weight={0: 0.21391959798994975, 1: 0.7860804020100502}; total time=   0.0s\n",
      "[CV] END class_weight={0: 0.21391959798994975, 1: 0.7860804020100502}; total time=   0.0s\n",
      "[CV] END class_weight={0: 0.21391959798994975, 1: 0.7860804020100502}; total time=   0.0s\n",
      "[CV] END class_weight={0: 0.21889447236180906, 1: 0.781105527638191}; total time=   0.0s\n",
      "[CV] END class_weight={0: 0.22386934673366835, 1: 0.7761306532663317}; total time=   0.0s\n",
      "[CV] END class_weight={0: 0.22386934673366835, 1: 0.7761306532663317}; total time=   0.0s\n",
      "[CV] END class_weight={0: 0.22386934673366835, 1: 0.7761306532663317}; total time=   0.0s\n",
      "[CV] END class_weight={0: 0.23879396984924622, 1: 0.7612060301507537}; total time=   0.0s\n",
      "[CV] END class_weight={0: 0.23879396984924622, 1: 0.7612060301507537}; total time=   0.0s\n",
      "[CV] END class_weight={0: 0.23879396984924622, 1: 0.7612060301507537}; total time=   0.0s\n",
      "[CV] END class_weight={0: 0.23879396984924622, 1: 0.7612060301507537}; total time=   0.0s\n",
      "[CV] END class_weight={0: 0.25371859296482413, 1: 0.7462814070351759}; total time=   0.0s\n",
      "[CV] END class_weight={0: 0.25371859296482413, 1: 0.7462814070351759}; total time=   0.0s\n",
      "[CV] END class_weight={0: 0.25371859296482413, 1: 0.7462814070351759}; total time=   0.0s\n",
      "[CV] END class_weight={0: 0.25371859296482413, 1: 0.7462814070351759}; total time=   0.0s\n",
      "[CV] END class_weight={0: 0.26864321608040204, 1: 0.731356783919598}; total time=   0.0s\n",
      "[CV] END class_weight={0: 0.26864321608040204, 1: 0.731356783919598}; total time=   0.0s\n",
      "[CV] END class_weight={0: 0.26864321608040204, 1: 0.731356783919598}; total time=   0.0s\n",
      "[CV] END class_weight={0: 0.2736180904522613, 1: 0.7263819095477386}; total time=   0.0s\n",
      "[CV] END class_weight={0: 0.2835678391959799, 1: 0.7164321608040201}; total time=   0.0s\n",
      "[CV] END class_weight={0: 0.2835678391959799, 1: 0.7164321608040201}; total time=   0.0s\n",
      "[CV] END class_weight={0: 0.2885427135678392, 1: 0.7114572864321608}; total time=   0.0s\n",
      "[CV] END class_weight={0: 0.2885427135678392, 1: 0.7114572864321608}; total time=   0.0s\n",
      "[CV] END class_weight={0: 0.2984924623115578, 1: 0.7015075376884422}; total time=   0.0s\n",
      "[CV] END class_weight={0: 0.3034673366834171, 1: 0.6965326633165829}; total time=   0.0s\n",
      "[CV] END class_weight={0: 0.3034673366834171, 1: 0.6965326633165829}; total time=   0.0s\n",
      "[CV] END class_weight={0: 0.3034673366834171, 1: 0.6965326633165829}; total time=   0.0s\n",
      "[CV] END class_weight={0: 0.318391959798995, 1: 0.681608040201005}; total time=   0.0s\n",
      "[CV] END class_weight={0: 0.318391959798995, 1: 0.681608040201005}; total time=   0.0s\n",
      "[CV] END class_weight={0: 0.318391959798995, 1: 0.681608040201005}; total time=   0.0s\n",
      "[CV] END class_weight={0: 0.318391959798995, 1: 0.681608040201005}; total time=   0.0s\n",
      "[CV] END class_weight={0: 0.3333165829145729, 1: 0.6666834170854271}; total time=   0.0s\n",
      "[CV] END class_weight={0: 0.3333165829145729, 1: 0.6666834170854271}; total time=   0.0s\n",
      "[CV] END class_weight={0: 0.3333165829145729, 1: 0.6666834170854271}; total time=   0.0s\n",
      "[CV] END class_weight={0: 0.3333165829145729, 1: 0.6666834170854271}; total time=   0.0s\n",
      "[CV] END class_weight={0: 0.34824120603015074, 1: 0.6517587939698493}; total time=   0.0s\n",
      "[CV] END class_weight={0: 0.34824120603015074, 1: 0.6517587939698493}; total time=   0.0s\n",
      "[CV] END class_weight={0: 0.34824120603015074, 1: 0.6517587939698493}; total time=   0.0s\n",
      "[CV] END class_weight={0: 0.3532160804020101, 1: 0.6467839195979899}; total time=   0.0s[CV] END ......................class_weight={0: 0.0, 1: 1.0}; total time=   0.0s\n",
      "[CV] END class_weight={0: 0.004974874371859297, 1: 0.9950251256281407}; total time=   0.0s\n",
      "[CV] END class_weight={0: 0.009949748743718593, 1: 0.9900502512562814}; total time=   0.0s\n",
      "[CV] END class_weight={0: 0.014924623115577889, 1: 0.9850753768844221}; total time=   0.0s\n",
      "[CV] END class_weight={0: 0.019899497487437186, 1: 0.9801005025125629}; total time=   0.0s\n",
      "[CV] END class_weight={0: 0.024874371859296484, 1: 0.9751256281407035}; total time=   0.0s\n",
      "[CV] END class_weight={0: 0.029849246231155778, 1: 0.9701507537688442}; total time=   0.0s\n",
      "[CV] END class_weight={0: 0.029849246231155778, 1: 0.9701507537688442}; total time=   0.0s\n",
      "[CV] END class_weight={0: 0.034824120603015075, 1: 0.9651758793969849}; total time=   0.0s\n",
      "[CV] END class_weight={0: 0.034824120603015075, 1: 0.9651758793969849}; total time=   0.0s\n",
      "[CV] END class_weight={0: 0.04974874371859297, 1: 0.950251256281407}; total time=   0.0s\n",
      "[CV] END class_weight={0: 0.04974874371859297, 1: 0.950251256281407}; total time=   0.0s\n",
      "[CV] END class_weight={0: 0.04974874371859297, 1: 0.950251256281407}; total time=   0.0s\n",
      "[CV] END class_weight={0: 0.054723618090452265, 1: 0.9452763819095478}; total time=   0.0s\n",
      "[CV] END class_weight={0: 0.059698492462311556, 1: 0.9403015075376885}; total time=   0.0s\n",
      "[CV] END class_weight={0: 0.06467336683417085, 1: 0.9353266331658292}; total time=   0.0s\n",
      "[CV] END class_weight={0: 0.06467336683417085, 1: 0.9353266331658292}; total time=   0.0s\n",
      "[CV] END class_weight={0: 0.06467336683417085, 1: 0.9353266331658292}; total time=   0.0s\n",
      "[CV] END class_weight={0: 0.07959798994974875, 1: 0.9204020100502512}; total time=   0.0s\n",
      "[CV] END class_weight={0: 0.07959798994974875, 1: 0.9204020100502512}; total time=   0.0s\n",
      "[CV] END class_weight={0: 0.07959798994974875, 1: 0.9204020100502512}; total time=   0.0s\n",
      "[CV] END class_weight={0: 0.07959798994974875, 1: 0.9204020100502512}; total time=   0.0s\n",
      "[CV] END class_weight={0: 0.09452261306532664, 1: 0.9054773869346734}; total time=   0.0s\n",
      "[CV] END class_weight={0: 0.09452261306532664, 1: 0.9054773869346734}; total time=   0.0s\n",
      "[CV] END class_weight={0: 0.09452261306532664, 1: 0.9054773869346734}; total time=   0.0s\n",
      "[CV] END class_weight={0: 0.09452261306532664, 1: 0.9054773869346734}; total time=   0.0s\n",
      "[CV] END class_weight={0: 0.10944723618090453, 1: 0.8905527638190954}; total time=   0.0s\n",
      "[CV] END class_weight={0: 0.10944723618090453, 1: 0.8905527638190954}; total time=   0.0s\n",
      "[CV] END class_weight={0: 0.10944723618090453, 1: 0.8905527638190954}; total time=   0.0s\n",
      "[CV] END class_weight={0: 0.11442211055276383, 1: 0.8855778894472361}; total time=   0.0s\n",
      "[CV] END class_weight={0: 0.12437185929648241, 1: 0.8756281407035176}; total time=   0.0s\n",
      "[CV] END class_weight={0: 0.12437185929648241, 1: 0.8756281407035176}; total time=   0.0s\n",
      "[CV] END class_weight={0: 0.1293467336683417, 1: 0.8706532663316583}; total time=   0.0s\n",
      "[CV] END class_weight={0: 0.1293467336683417, 1: 0.8706532663316583}; total time=   0.0s\n",
      "[CV] END class_weight={0: 0.1392964824120603, 1: 0.8607035175879397}; total time=   0.0s\n",
      "[CV] END class_weight={0: 0.1442713567839196, 1: 0.8557286432160804}; total time=   0.0s\n",
      "[CV] END class_weight={0: 0.1442713567839196, 1: 0.8557286432160804}; total time=   0.0s\n",
      "[CV] END class_weight={0: 0.1442713567839196, 1: 0.8557286432160804}; total time=   0.0s\n",
      "[CV] END class_weight={0: 0.1542211055276382, 1: 0.8457788944723618}; total time=   0.0s\n",
      "[CV] END class_weight={0: 0.1542211055276382, 1: 0.8457788944723618}; total time=   0.0s\n",
      "[CV] END class_weight={0: 0.1542211055276382, 1: 0.8457788944723618}; total time=   0.0s\n",
      "[CV] END class_weight={0: 0.1542211055276382, 1: 0.8457788944723618}; total time=   0.0s\n",
      "[CV] END class_weight={0: 0.1691457286432161, 1: 0.8308542713567839}; total time=   0.0s\n",
      "[CV] END class_weight={0: 0.1691457286432161, 1: 0.8308542713567839}; total time=   0.0s\n",
      "[CV] END class_weight={0: 0.1691457286432161, 1: 0.8308542713567839}; total time=   0.0s\n",
      "[CV] END class_weight={0: 0.17412060301507537, 1: 0.8258793969849246}; total time=   0.0s\n",
      "[CV] END class_weight={0: 0.18407035175879397, 1: 0.8159296482412061}; total time=   0.0s\n",
      "[CV] END class_weight={0: 0.18407035175879397, 1: 0.8159296482412061}; total time=   0.0s\n",
      "[CV] END class_weight={0: 0.18904522613065328, 1: 0.8109547738693468}; total time=   0.0s\n",
      "[CV] END class_weight={0: 0.18904522613065328, 1: 0.8109547738693468}; total time=   0.0s\n",
      "[CV] END class_weight={0: 0.19899497487437187, 1: 0.8010050251256281}; total time=   0.0s\n",
      "[CV] END class_weight={0: 0.20396984924623116, 1: 0.7960301507537688}; total time=   0.0s\n",
      "[CV] END class_weight={0: 0.20396984924623116, 1: 0.7960301507537688}; total time=   0.0s\n",
      "[CV] END class_weight={0: 0.20396984924623116, 1: 0.7960301507537688}; total time=   0.0s\n",
      "[CV] END class_weight={0: 0.21889447236180906, 1: 0.781105527638191}; total time=   0.0s\n",
      "[CV] END class_weight={0: 0.21889447236180906, 1: 0.781105527638191}; total time=   0.0s\n",
      "[CV] END class_weight={0: 0.21889447236180906, 1: 0.781105527638191}; total time=   0.0s\n",
      "[CV] END class_weight={0: 0.21889447236180906, 1: 0.781105527638191}; total time=   0.0s\n",
      "[CV] END class_weight={0: 0.23381909547738694, 1: 0.7661809045226131}; total time=   0.0s\n",
      "[CV] END class_weight={0: 0.23381909547738694, 1: 0.7661809045226131}; total time=   0.0s\n",
      "[CV] END class_weight={0: 0.23381909547738694, 1: 0.7661809045226131}; total time=   0.0s\n",
      "[CV] END class_weight={0: 0.23381909547738694, 1: 0.7661809045226131}; total time=   0.0s\n",
      "[CV] END class_weight={0: 0.24874371859296482, 1: 0.7512562814070352}; total time=   0.0s\n",
      "[CV] END class_weight={0: 0.24874371859296482, 1: 0.7512562814070352}; total time=   0.0s\n",
      "[CV] END class_weight={0: 0.24874371859296482, 1: 0.7512562814070352}; total time=   0.0s\n",
      "[CV] END class_weight={0: 0.25371859296482413, 1: 0.7462814070351759}; total time=   0.0s\n",
      "[CV] END class_weight={0: 0.2636683417085427, 1: 0.7363316582914573}; total time=   0.0s\n",
      "[CV] END class_weight={0: 0.2636683417085427, 1: 0.7363316582914573}; total time=   0.0s\n",
      "[CV] END class_weight={0: 0.26864321608040204, 1: 0.731356783919598}; total time=   0.0s\n",
      "[CV] END class_weight={0: 0.26864321608040204, 1: 0.731356783919598}; total time=   0.0s\n",
      "[CV] END class_weight={0: 0.2785929648241206, 1: 0.7214070351758795}; total time=   0.0s\n",
      "[CV] END class_weight={0: 0.2835678391959799, 1: 0.7164321608040201}; total time=   0.0s\n",
      "[CV] END class_weight={0: 0.2835678391959799, 1: 0.7164321608040201}; total time=   0.0s\n",
      "[CV] END class_weight={0: 0.2835678391959799, 1: 0.7164321608040201}; total time=   0.0s\n",
      "[CV] END class_weight={0: 0.2984924623115578, 1: 0.7015075376884422}; total time=   0.0s\n",
      "[CV] END class_weight={0: 0.2984924623115578, 1: 0.7015075376884422}; total time=   0.0s\n",
      "[CV] END class_weight={0: 0.2984924623115578, 1: 0.7015075376884422}; total time=   0.0s\n",
      "[CV] END class_weight={0: 0.2984924623115578, 1: 0.7015075376884422}; total time=   0.0s\n",
      "[CV] END class_weight={0: 0.3134170854271357, 1: 0.6865829145728644}; total time=   0.0s\n",
      "[CV] END class_weight={0: 0.3134170854271357, 1: 0.6865829145728644}; total time=   0.0s\n",
      "[CV] END class_weight={0: 0.3134170854271357, 1: 0.6865829145728644}; total time=   0.0s\n",
      "[CV] END class_weight={0: 0.3134170854271357, 1: 0.6865829145728644}; total time=   0.0s\n",
      "[CV] END class_weight={0: 0.32834170854271355, 1: 0.6716582914572864}; total time=   0.0s\n",
      "[CV] END class_weight={0: 0.32834170854271355, 1: 0.6716582914572864}; total time=   0.0s\n",
      "[CV] END class_weight={0: 0.32834170854271355, 1: 0.6716582914572864}; total time=   0.0s\n",
      "[CV] END class_weight={0: 0.3333165829145729, 1: 0.6666834170854271}; total time=   0.0s\n",
      "[CV] END class_weight={0: 0.34326633165829146, 1: 0.6567336683417085}; total time=   0.0s\n",
      "[CV] END class_weight={0: 0.34326633165829146, 1: 0.6567336683417085}; total time=   0.0s\n",
      "[CV] END class_weight={0: 0.34824120603015074, 1: 0.6517587939698493}; total time=   0.0s\n",
      "[CV] END class_weight={0: 0.34824120603015074, 1: 0.6517587939698493}; total time=   0.0s\n",
      "[CV] END class_weight={0: 0.35819095477386936, 1: 0.6418090452261307}; total time=   0.0s\n",
      "[CV] END class_weight={0: 0.36316582914572865, 1: 0.6368341708542713}; total time=   0.0s[CV] END ......................class_weight={0: 0.0, 1: 1.0}; total time=   0.0s\n",
      "[CV] END class_weight={0: 0.004974874371859297, 1: 0.9950251256281407}; total time=   0.0s\n",
      "[CV] END class_weight={0: 0.009949748743718593, 1: 0.9900502512562814}; total time=   0.0s\n",
      "[CV] END class_weight={0: 0.009949748743718593, 1: 0.9900502512562814}; total time=   0.0s\n",
      "[CV] END class_weight={0: 0.014924623115577889, 1: 0.9850753768844221}; total time=   0.0s\n",
      "[CV] END class_weight={0: 0.019899497487437186, 1: 0.9801005025125629}; total time=   0.0s\n",
      "[CV] END class_weight={0: 0.024874371859296484, 1: 0.9751256281407035}; total time=   0.0s\n",
      "[CV] END class_weight={0: 0.029849246231155778, 1: 0.9701507537688442}; total time=   0.0s\n",
      "[CV] END class_weight={0: 0.029849246231155778, 1: 0.9701507537688442}; total time=   0.0s\n",
      "[CV] END class_weight={0: 0.03979899497487437, 1: 0.9602010050251256}; total time=   0.0s\n",
      "[CV] END class_weight={0: 0.03979899497487437, 1: 0.9602010050251256}; total time=   0.0s\n",
      "[CV] END class_weight={0: 0.04477386934673367, 1: 0.9552261306532663}; total time=   0.0s\n",
      "[CV] END class_weight={0: 0.04477386934673367, 1: 0.9552261306532663}; total time=   0.0s\n",
      "[CV] END class_weight={0: 0.04974874371859297, 1: 0.950251256281407}; total time=   0.0s\n",
      "[CV] END class_weight={0: 0.04974874371859297, 1: 0.950251256281407}; total time=   0.0s\n",
      "[CV] END class_weight={0: 0.06467336683417085, 1: 0.9353266331658292}; total time=   0.0s\n",
      "[CV] END class_weight={0: 0.06467336683417085, 1: 0.9353266331658292}; total time=   0.0s\n",
      "[CV] END class_weight={0: 0.06964824120603015, 1: 0.9303517587939698}; total time=   0.0s\n",
      "[CV] END class_weight={0: 0.06964824120603015, 1: 0.9303517587939698}; total time=   0.0s\n",
      "[CV] END class_weight={0: 0.07959798994974875, 1: 0.9204020100502512}; total time=   0.0s\n",
      "[CV] END class_weight={0: 0.08457286432160804, 1: 0.915427135678392}; total time=   0.0s\n",
      "[CV] END class_weight={0: 0.08457286432160804, 1: 0.915427135678392}; total time=   0.0s\n",
      "[CV] END class_weight={0: 0.08457286432160804, 1: 0.915427135678392}; total time=   0.0s\n",
      "[CV] END class_weight={0: 0.09949748743718594, 1: 0.9005025125628141}; total time=   0.0s\n",
      "[CV] END class_weight={0: 0.09949748743718594, 1: 0.9005025125628141}; total time=   0.0s\n",
      "[CV] END class_weight={0: 0.09949748743718594, 1: 0.9005025125628141}; total time=   0.0s\n",
      "[CV] END class_weight={0: 0.09949748743718594, 1: 0.9005025125628141}; total time=   0.0s\n",
      "[CV] END class_weight={0: 0.11442211055276383, 1: 0.8855778894472361}; total time=   0.0s\n",
      "[CV] END class_weight={0: 0.11442211055276383, 1: 0.8855778894472361}; total time=   0.0s\n",
      "[CV] END class_weight={0: 0.11442211055276383, 1: 0.8855778894472361}; total time=   0.0s\n",
      "[CV] END class_weight={0: 0.11442211055276383, 1: 0.8855778894472361}; total time=   0.0s\n",
      "[CV] END class_weight={0: 0.1293467336683417, 1: 0.8706532663316583}; total time=   0.0s\n",
      "[CV] END class_weight={0: 0.1293467336683417, 1: 0.8706532663316583}; total time=   0.0s\n",
      "[CV] END class_weight={0: 0.1293467336683417, 1: 0.8706532663316583}; total time=   0.0s\n",
      "[CV] END class_weight={0: 0.13432160804020102, 1: 0.865678391959799}; total time=   0.0s\n",
      "[CV] END class_weight={0: 0.1442713567839196, 1: 0.8557286432160804}; total time=   0.0s\n",
      "[CV] END class_weight={0: 0.1442713567839196, 1: 0.8557286432160804}; total time=   0.0s\n",
      "[CV] END class_weight={0: 0.1492462311557789, 1: 0.850753768844221}; total time=   0.0s\n",
      "[CV] END class_weight={0: 0.1492462311557789, 1: 0.850753768844221}; total time=   0.0s\n",
      "[CV] END class_weight={0: 0.1591959798994975, 1: 0.8408040201005025}; total time=   0.0s\n",
      "[CV] END class_weight={0: 0.1591959798994975, 1: 0.8408040201005025}; total time=   0.0s\n",
      "[CV] END class_weight={0: 0.1591959798994975, 1: 0.8408040201005025}; total time=   0.0s\n",
      "[CV] END class_weight={0: 0.1591959798994975, 1: 0.8408040201005025}; total time=   0.0s\n",
      "[CV] END class_weight={0: 0.17412060301507537, 1: 0.8258793969849246}; total time=   0.0s\n",
      "[CV] END class_weight={0: 0.17412060301507537, 1: 0.8258793969849246}; total time=   0.0s\n",
      "[CV] END class_weight={0: 0.17412060301507537, 1: 0.8258793969849246}; total time=   0.0s\n",
      "[CV] END class_weight={0: 0.17412060301507537, 1: 0.8258793969849246}; total time=   0.0s\n",
      "[CV] END class_weight={0: 0.18904522613065328, 1: 0.8109547738693468}; total time=   0.0s\n",
      "[CV] END class_weight={0: 0.18904522613065328, 1: 0.8109547738693468}; total time=   0.0s\n",
      "[CV] END class_weight={0: 0.18904522613065328, 1: 0.8109547738693468}; total time=   0.0s\n",
      "[CV] END class_weight={0: 0.19402010050251256, 1: 0.8059798994974874}; total time=   0.0s\n",
      "[CV] END class_weight={0: 0.20396984924623116, 1: 0.7960301507537688}; total time=   0.0s\n",
      "[CV] END class_weight={0: 0.20396984924623116, 1: 0.7960301507537688}; total time=   0.0s\n",
      "[CV] END class_weight={0: 0.20894472361809047, 1: 0.7910552763819095}; total time=   0.0s\n",
      "[CV] END class_weight={0: 0.20894472361809047, 1: 0.7910552763819095}; total time=   0.0s\n",
      "[CV] END class_weight={0: 0.22386934673366835, 1: 0.7761306532663317}; total time=   0.0s\n",
      "[CV] END class_weight={0: 0.22386934673366835, 1: 0.7761306532663317}; total time=   0.0s\n",
      "[CV] END class_weight={0: 0.22884422110552766, 1: 0.7711557788944723}; total time=   0.0s\n",
      "[CV] END class_weight={0: 0.22884422110552766, 1: 0.7711557788944723}; total time=   0.0s\n",
      "[CV] END class_weight={0: 0.23879396984924622, 1: 0.7612060301507537}; total time=   0.0s\n",
      "[CV] END class_weight={0: 0.24376884422110554, 1: 0.7562311557788944}; total time=   0.0s\n",
      "[CV] END class_weight={0: 0.24376884422110554, 1: 0.7562311557788944}; total time=   0.0s\n",
      "[CV] END class_weight={0: 0.24376884422110554, 1: 0.7562311557788944}; total time=   0.0s\n",
      "[CV] END class_weight={0: 0.2586934673366834, 1: 0.7413065326633166}; total time=   0.0s\n",
      "[CV] END class_weight={0: 0.2586934673366834, 1: 0.7413065326633166}; total time=   0.0s\n",
      "[CV] END class_weight={0: 0.2586934673366834, 1: 0.7413065326633166}; total time=   0.0s\n",
      "[CV] END class_weight={0: 0.2586934673366834, 1: 0.7413065326633166}; total time=   0.0s\n",
      "[CV] END class_weight={0: 0.2736180904522613, 1: 0.7263819095477386}; total time=   0.0s\n",
      "[CV] END class_weight={0: 0.2736180904522613, 1: 0.7263819095477386}; total time=   0.0s\n",
      "[CV] END class_weight={0: 0.2736180904522613, 1: 0.7263819095477386}; total time=   0.0s\n",
      "[CV] END class_weight={0: 0.2736180904522613, 1: 0.7263819095477386}; total time=   0.0s\n",
      "[CV] END class_weight={0: 0.2885427135678392, 1: 0.7114572864321608}; total time=   0.0s\n",
      "[CV] END class_weight={0: 0.2885427135678392, 1: 0.7114572864321608}; total time=   0.0s\n",
      "[CV] END class_weight={0: 0.2885427135678392, 1: 0.7114572864321608}; total time=   0.0s\n",
      "[CV] END class_weight={0: 0.2935175879396985, 1: 0.7064824120603015}; total time=   0.0s\n",
      "[CV] END class_weight={0: 0.3034673366834171, 1: 0.6965326633165829}; total time=   0.0s\n",
      "[CV] END class_weight={0: 0.3034673366834171, 1: 0.6965326633165829}; total time=   0.0s\n",
      "[CV] END class_weight={0: 0.3084422110552764, 1: 0.6915577889447235}; total time=   0.0s\n",
      "[CV] END class_weight={0: 0.3084422110552764, 1: 0.6915577889447235}; total time=   0.0s\n",
      "[CV] END class_weight={0: 0.318391959798995, 1: 0.681608040201005}; total time=   0.0s\n",
      "[CV] END class_weight={0: 0.32336683417085427, 1: 0.6766331658291458}; total time=   0.0s\n",
      "[CV] END class_weight={0: 0.32336683417085427, 1: 0.6766331658291458}; total time=   0.0s\n",
      "[CV] END class_weight={0: 0.32336683417085427, 1: 0.6766331658291458}; total time=   0.0s\n",
      "[CV] END class_weight={0: 0.3382914572864322, 1: 0.6617085427135678}; total time=   0.0s\n",
      "[CV] END class_weight={0: 0.3382914572864322, 1: 0.6617085427135678}; total time=   0.0s\n",
      "[CV] END class_weight={0: 0.3382914572864322, 1: 0.6617085427135678}; total time=   0.0s\n",
      "[CV] END class_weight={0: 0.3382914572864322, 1: 0.6617085427135678}; total time=   0.0s\n",
      "[CV] END class_weight={0: 0.3532160804020101, 1: 0.6467839195979899}; total time=   0.0s\n",
      "[CV] END class_weight={0: 0.3532160804020101, 1: 0.6467839195979899}; total time=   0.0s\n",
      "[CV] END class_weight={0: 0.3532160804020101, 1: 0.6467839195979899}; total time=   0.0s\n",
      "[CV] END class_weight={0: 0.3532160804020101, 1: 0.6467839195979899}; total time=   0.0s\n",
      "[CV] END class_weight={0: 0.36814070351758793, 1: 0.6318592964824121}; total time=   0.0s[CV] END ......................class_weight={0: 0.0, 1: 1.0}; total time=   0.1s\n",
      "[CV] END ......................class_weight={0: 0.0, 1: 1.0}; total time=   0.0s\n",
      "[CV] END class_weight={0: 0.004974874371859297, 1: 0.9950251256281407}; total time=   0.0s\n",
      "[CV] END class_weight={0: 0.009949748743718593, 1: 0.9900502512562814}; total time=   0.0s\n",
      "[CV] END class_weight={0: 0.014924623115577889, 1: 0.9850753768844221}; total time=   0.0s\n",
      "[CV] END class_weight={0: 0.019899497487437186, 1: 0.9801005025125629}; total time=   0.0s\n",
      "[CV] END class_weight={0: 0.019899497487437186, 1: 0.9801005025125629}; total time=   0.0s\n",
      "[CV] END class_weight={0: 0.024874371859296484, 1: 0.9751256281407035}; total time=   0.0s\n",
      "[CV] END class_weight={0: 0.024874371859296484, 1: 0.9751256281407035}; total time=   0.0s\n",
      "[CV] END class_weight={0: 0.034824120603015075, 1: 0.9651758793969849}; total time=   0.0s\n",
      "[CV] END class_weight={0: 0.034824120603015075, 1: 0.9651758793969849}; total time=   0.0s\n",
      "[CV] END class_weight={0: 0.03979899497487437, 1: 0.9602010050251256}; total time=   0.0s\n",
      "[CV] END class_weight={0: 0.04477386934673367, 1: 0.9552261306532663}; total time=   0.0s\n",
      "[CV] END class_weight={0: 0.04477386934673367, 1: 0.9552261306532663}; total time=   0.0s\n",
      "[CV] END class_weight={0: 0.04477386934673367, 1: 0.9552261306532663}; total time=   0.0s\n",
      "[CV] END class_weight={0: 0.059698492462311556, 1: 0.9403015075376885}; total time=   0.0s\n",
      "[CV] END class_weight={0: 0.059698492462311556, 1: 0.9403015075376885}; total time=   0.0s\n",
      "[CV] END class_weight={0: 0.059698492462311556, 1: 0.9403015075376885}; total time=   0.0s\n",
      "[CV] END class_weight={0: 0.059698492462311556, 1: 0.9403015075376885}; total time=   0.0s\n",
      "[CV] END class_weight={0: 0.07462311557788945, 1: 0.9253768844221105}; total time=   0.0s\n",
      "[CV] END class_weight={0: 0.07462311557788945, 1: 0.9253768844221105}; total time=   0.0s\n",
      "[CV] END class_weight={0: 0.07462311557788945, 1: 0.9253768844221105}; total time=   0.0s\n",
      "[CV] END class_weight={0: 0.07462311557788945, 1: 0.9253768844221105}; total time=   0.0s\n",
      "[CV] END class_weight={0: 0.08954773869346734, 1: 0.9104522613065327}; total time=   0.0s\n",
      "[CV] END class_weight={0: 0.08954773869346734, 1: 0.9104522613065327}; total time=   0.0s\n",
      "[CV] END class_weight={0: 0.08954773869346734, 1: 0.9104522613065327}; total time=   0.0s\n",
      "[CV] END class_weight={0: 0.09452261306532664, 1: 0.9054773869346734}; total time=   0.0s\n",
      "[CV] END class_weight={0: 0.10447236180904523, 1: 0.8955276381909547}; total time=   0.0s\n",
      "[CV] END class_weight={0: 0.10447236180904523, 1: 0.8955276381909547}; total time=   0.0s\n",
      "[CV] END class_weight={0: 0.10944723618090453, 1: 0.8905527638190954}; total time=   0.0s\n",
      "[CV] END class_weight={0: 0.10944723618090453, 1: 0.8905527638190954}; total time=   0.0s\n",
      "[CV] END class_weight={0: 0.11939698492462311, 1: 0.8806030150753769}; total time=   0.0s\n",
      "[CV] END class_weight={0: 0.12437185929648241, 1: 0.8756281407035176}; total time=   0.0s\n",
      "[CV] END class_weight={0: 0.12437185929648241, 1: 0.8756281407035176}; total time=   0.0s\n",
      "[CV] END class_weight={0: 0.12437185929648241, 1: 0.8756281407035176}; total time=   0.0s\n",
      "[CV] END class_weight={0: 0.1392964824120603, 1: 0.8607035175879397}; total time=   0.0s\n",
      "[CV] END class_weight={0: 0.1392964824120603, 1: 0.8607035175879397}; total time=   0.0s\n",
      "[CV] END class_weight={0: 0.1392964824120603, 1: 0.8607035175879397}; total time=   0.0s\n",
      "[CV] END class_weight={0: 0.1392964824120603, 1: 0.8607035175879397}; total time=   0.0s\n",
      "[CV] END class_weight={0: 0.1591959798994975, 1: 0.8408040201005025}; total time=   0.0s\n",
      "[CV] END class_weight={0: 0.16417085427135678, 1: 0.8358291457286432}; total time=   0.0s\n",
      "[CV] END class_weight={0: 0.16417085427135678, 1: 0.8358291457286432}; total time=   0.0s\n",
      "[CV] END class_weight={0: 0.16417085427135678, 1: 0.8358291457286432}; total time=   0.0s\n",
      "[CV] END class_weight={0: 0.17909547738693468, 1: 0.8209045226130653}; total time=   0.0s\n",
      "[CV] END class_weight={0: 0.17909547738693468, 1: 0.8209045226130653}; total time=   0.0s\n",
      "[CV] END class_weight={0: 0.17909547738693468, 1: 0.8209045226130653}; total time=   0.0s\n",
      "[CV] END class_weight={0: 0.17909547738693468, 1: 0.8209045226130653}; total time=   0.0s\n",
      "[CV] END class_weight={0: 0.19402010050251256, 1: 0.8059798994974874}; total time=   0.0s\n",
      "[CV] END class_weight={0: 0.19402010050251256, 1: 0.8059798994974874}; total time=   0.0s\n",
      "[CV] END class_weight={0: 0.19402010050251256, 1: 0.8059798994974874}; total time=   0.0s\n",
      "[CV] END class_weight={0: 0.19402010050251256, 1: 0.8059798994974874}; total time=   0.0s\n",
      "[CV] END class_weight={0: 0.20894472361809047, 1: 0.7910552763819095}; total time=   0.0s\n",
      "[CV] END class_weight={0: 0.20894472361809047, 1: 0.7910552763819095}; total time=   0.0s\n",
      "[CV] END class_weight={0: 0.20894472361809047, 1: 0.7910552763819095}; total time=   0.0s\n",
      "[CV] END class_weight={0: 0.21391959798994975, 1: 0.7860804020100502}; total time=   0.0s\n",
      "[CV] END class_weight={0: 0.22884422110552766, 1: 0.7711557788944723}; total time=   0.0s\n",
      "[CV] END class_weight={0: 0.22884422110552766, 1: 0.7711557788944723}; total time=   0.0s\n",
      "[CV] END class_weight={0: 0.22884422110552766, 1: 0.7711557788944723}; total time=   0.0s\n",
      "[CV] END class_weight={0: 0.23381909547738694, 1: 0.7661809045226131}; total time=   0.0s\n",
      "[CV] END class_weight={0: 0.24376884422110554, 1: 0.7562311557788944}; total time=   0.0s\n",
      "[CV] END class_weight={0: 0.24376884422110554, 1: 0.7562311557788944}; total time=   0.0s\n",
      "[CV] END class_weight={0: 0.24874371859296482, 1: 0.7512562814070352}; total time=   0.0s\n",
      "[CV] END class_weight={0: 0.24874371859296482, 1: 0.7512562814070352}; total time=   0.0s\n",
      "[CV] END class_weight={0: 0.2586934673366834, 1: 0.7413065326633166}; total time=   0.0s\n",
      "[CV] END class_weight={0: 0.2636683417085427, 1: 0.7363316582914573}; total time=   0.0s\n",
      "[CV] END class_weight={0: 0.2636683417085427, 1: 0.7363316582914573}; total time=   0.0s\n",
      "[CV] END class_weight={0: 0.2636683417085427, 1: 0.7363316582914573}; total time=   0.0s\n",
      "[CV] END class_weight={0: 0.2785929648241206, 1: 0.7214070351758795}; total time=   0.0s\n",
      "[CV] END class_weight={0: 0.2785929648241206, 1: 0.7214070351758795}; total time=   0.0s\n",
      "[CV] END class_weight={0: 0.2785929648241206, 1: 0.7214070351758795}; total time=   0.0s\n",
      "[CV] END class_weight={0: 0.2785929648241206, 1: 0.7214070351758795}; total time=   0.0s\n",
      "[CV] END class_weight={0: 0.2935175879396985, 1: 0.7064824120603015}; total time=   0.0s\n",
      "[CV] END class_weight={0: 0.2935175879396985, 1: 0.7064824120603015}; total time=   0.0s\n",
      "[CV] END class_weight={0: 0.2935175879396985, 1: 0.7064824120603015}; total time=   0.0s\n",
      "[CV] END class_weight={0: 0.2935175879396985, 1: 0.7064824120603015}; total time=   0.0s\n",
      "[CV] END class_weight={0: 0.3084422110552764, 1: 0.6915577889447235}; total time=   0.0s\n",
      "[CV] END class_weight={0: 0.3084422110552764, 1: 0.6915577889447235}; total time=   0.0s\n",
      "[CV] END class_weight={0: 0.3084422110552764, 1: 0.6915577889447235}; total time=   0.0s\n",
      "[CV] END class_weight={0: 0.3134170854271357, 1: 0.6865829145728644}; total time=   0.0s\n",
      "[CV] END class_weight={0: 0.32336683417085427, 1: 0.6766331658291458}; total time=   0.0s\n",
      "[CV] END class_weight={0: 0.32336683417085427, 1: 0.6766331658291458}; total time=   0.0s\n",
      "[CV] END class_weight={0: 0.32834170854271355, 1: 0.6716582914572864}; total time=   0.0s\n",
      "[CV] END class_weight={0: 0.32834170854271355, 1: 0.6716582914572864}; total time=   0.0s\n",
      "[CV] END class_weight={0: 0.3382914572864322, 1: 0.6617085427135678}; total time=   0.0s\n",
      "[CV] END class_weight={0: 0.34326633165829146, 1: 0.6567336683417085}; total time=   0.0s\n",
      "[CV] END class_weight={0: 0.34326633165829146, 1: 0.6567336683417085}; total time=   0.0s\n",
      "[CV] END class_weight={0: 0.34326633165829146, 1: 0.6567336683417085}; total time=   0.0s\n",
      "[CV] END class_weight={0: 0.35819095477386936, 1: 0.6418090452261307}; total time=   0.0s\n",
      "[CV] END class_weight={0: 0.35819095477386936, 1: 0.6418090452261307}; total time=   0.0s\n",
      "[CV] END class_weight={0: 0.35819095477386936, 1: 0.6418090452261307}; total time=   0.0s\n",
      "[CV] END class_weight={0: 0.35819095477386936, 1: 0.6418090452261307}; total time=   0.0s\n",
      "[CV] END class_weight={0: 0.37311557788944727, 1: 0.6268844221105527}; total time=   0.0s\n",
      "[CV] END class_weight={0: 0.37311557788944727, 1: 0.6268844221105527}; total time=   0.0s\n",
      "[CV] END class_weight={0: 0.37311557788944727, 1: 0.6268844221105527}; total time=   0.0s\n",
      "[CV] END class_weight={0: 0.37311557788944727, 1: 0.6268844221105527}; total time=   0.0s\n",
      "[CV] END class_weight={0: 0.38306532663316584, 1: 0.6169346733668342}; total time=   0.0s\n",
      "[CV] END class_weight={0: 0.38306532663316584, 1: 0.6169346733668342}; total time=   0.0s\n",
      "[CV] END class_weight={0: 0.3880402010050251, 1: 0.6119597989949749}; total time=   0.0s\n",
      "[CV] END class_weight={0: 0.3880402010050251, 1: 0.6119597989949749}; total time=   0.0s\n",
      "[CV] END class_weight={0: 0.39798994974874374, 1: 0.6020100502512562}; total time=   0.0s\n",
      "[CV] END class_weight={0: 0.402964824120603, 1: 0.597035175879397}; total time=   0.0s\n",
      "[CV] END class_weight={0: 0.402964824120603, 1: 0.597035175879397}; total time=   0.0s\n",
      "[CV] END class_weight={0: 0.402964824120603, 1: 0.597035175879397}; total time=   0.0s\n",
      "[CV] END class_weight={0: 0.41788944723618093, 1: 0.5821105527638191}; total time=   0.0s\n",
      "[CV] END class_weight={0: 0.41788944723618093, 1: 0.5821105527638191}; total time=   0.0s\n",
      "[CV] END class_weight={0: 0.41788944723618093, 1: 0.5821105527638191}; total time=   0.1s\n",
      "[CV] END class_weight={0: 0.41788944723618093, 1: 0.5821105527638191}; total time=   0.0s\n",
      "[CV] END class_weight={0: 0.4328140703517588, 1: 0.5671859296482412}; total time=   0.0s\n",
      "[CV] END class_weight={0: 0.4328140703517588, 1: 0.5671859296482412}; total time=   0.0s\n",
      "[CV] END class_weight={0: 0.4328140703517588, 1: 0.5671859296482412}; total time=   0.0s\n",
      "[CV] END class_weight={0: 0.4328140703517588, 1: 0.5671859296482412}; total time=   0.1s\n",
      "[CV] END class_weight={0: 0.452713567839196, 1: 0.547286432160804}; total time=   0.0s\n",
      "[CV] END class_weight={0: 0.452713567839196, 1: 0.547286432160804}; total time=   0.0s\n",
      "[CV] END class_weight={0: 0.452713567839196, 1: 0.547286432160804}; total time=   0.0s\n",
      "[CV] END class_weight={0: 0.452713567839196, 1: 0.547286432160804}; total time=   0.0s\n",
      "[CV] END class_weight={0: 0.4676381909547739, 1: 0.5323618090452261}; total time=   0.0s\n",
      "[CV] END class_weight={0: 0.4676381909547739, 1: 0.5323618090452261}; total time=   0.0s\n",
      "[CV] END class_weight={0: 0.4676381909547739, 1: 0.5323618090452261}; total time=   0.0s\n",
      "[CV] END class_weight={0: 0.47261306532663316, 1: 0.5273869346733668}; total time=   0.0s\n",
      "[CV] END class_weight={0: 0.4825628140703518, 1: 0.5174371859296483}; total time=   0.1s\n",
      "[CV] END class_weight={0: 0.4825628140703518, 1: 0.5174371859296483}; total time=   0.0s\n",
      "[CV] END class_weight={0: 0.48753768844221107, 1: 0.5124623115577889}; total time=   0.0s\n",
      "[CV] END class_weight={0: 0.48753768844221107, 1: 0.5124623115577889}; total time=   0.0s\n",
      "[CV] END class_weight={0: 0.49748743718592964, 1: 0.5025125628140703}; total time=   0.0s\n",
      "[CV] END class_weight={0: 0.502462311557789, 1: 0.497537688442211}; total time=   0.0s\n",
      "[CV] END class_weight={0: 0.502462311557789, 1: 0.497537688442211}; total time=   0.0s\n",
      "[CV] END class_weight={0: 0.502462311557789, 1: 0.497537688442211}; total time=   0.0s\n",
      "[CV] END class_weight={0: 0.5173869346733668, 1: 0.4826130653266332}; total time=   0.0s\n",
      "[CV] END class_weight={0: 0.5173869346733668, 1: 0.4826130653266332}; total time=   0.0s\n",
      "[CV] END class_weight={0: 0.5173869346733668, 1: 0.4826130653266332}; total time=   0.0s\n",
      "[CV] END class_weight={0: 0.5173869346733668, 1: 0.4826130653266332}; total time=   0.0s\n",
      "[CV] END class_weight={0: 0.5273366834170854, 1: 0.4726633165829146}; total time=   0.0s\n",
      "[CV] END class_weight={0: 0.5273366834170854, 1: 0.4726633165829146}; total time=   0.0s\n",
      "[CV] END class_weight={0: 0.5273366834170854, 1: 0.4726633165829146}; total time=   0.0s\n",
      "[CV] END class_weight={0: 0.5323115577889448, 1: 0.4676884422110552}; total time=   0.0s\n",
      "[CV] END class_weight={0: 0.5372864321608041, 1: 0.4627135678391959}; total time=   0.0s\n",
      "[CV] END class_weight={0: 0.5422613065326634, 1: 0.45773869346733664}; total time=   0.0s\n",
      "[CV] END class_weight={0: 0.5422613065326634, 1: 0.45773869346733664}; total time=   0.1s\n",
      "[CV] END class_weight={0: 0.5422613065326634, 1: 0.45773869346733664}; total time=   0.1s\n",
      "[CV] END class_weight={0: 0.5571859296482412, 1: 0.4428140703517588}; total time=   0.0s\n",
      "[CV] END class_weight={0: 0.5571859296482412, 1: 0.4428140703517588}; total time=   0.0s\n",
      "[CV] END class_weight={0: 0.5571859296482412, 1: 0.4428140703517588}; total time=   0.0s\n",
      "[CV] END class_weight={0: 0.5571859296482412, 1: 0.4428140703517588}; total time=   0.0s\n",
      "[CV] END class_weight={0: 0.5721105527638191, 1: 0.42788944723618094}; total time=   0.0s\n",
      "[CV] END class_weight={0: 0.5721105527638191, 1: 0.42788944723618094}; total time=   0.0s\n",
      "[CV] END class_weight={0: 0.5721105527638191, 1: 0.42788944723618094}; total time=   0.0s\n",
      "[CV] END class_weight={0: 0.5721105527638191, 1: 0.42788944723618094}; total time=   0.0s\n",
      "[CV] END class_weight={0: 0.5820603015075377, 1: 0.41793969849246226}; total time=   0.0s\n",
      "[CV] END class_weight={0: 0.5820603015075377, 1: 0.41793969849246226}; total time=   0.0s\n",
      "[CV] END class_weight={0: 0.587035175879397, 1: 0.412964824120603}; total time=   0.0s\n",
      "[CV] END class_weight={0: 0.587035175879397, 1: 0.412964824120603}; total time=   0.0s\n",
      "[CV] END class_weight={0: 0.5969849246231156, 1: 0.4030150753768844}; total time=   0.0s\n",
      "[CV] END class_weight={0: 0.6019597989949749, 1: 0.39804020100502513}; total time=   0.0s\n",
      "[CV] END class_weight={0: 0.6019597989949749, 1: 0.39804020100502513}; total time=   0.0s\n",
      "[CV] END class_weight={0: 0.6019597989949749, 1: 0.39804020100502513}; total time=   0.0s\n",
      "[CV] END class_weight={0: 0.6119095477386934, 1: 0.38809045226130656}; total time=   0.0s\n",
      "[CV] END class_weight={0: 0.6119095477386934, 1: 0.38809045226130656}; total time=   0.0s\n",
      "[CV] END class_weight={0: 0.6119095477386934, 1: 0.38809045226130656}; total time=   0.0s\n",
      "[CV] END class_weight={0: 0.6119095477386934, 1: 0.38809045226130656}; total time=   0.0s\n",
      "[CV] END class_weight={0: 0.6268341708542714, 1: 0.3731658291457286}; total time=   0.0s\n",
      "[CV] END class_weight={0: 0.6268341708542714, 1: 0.3731658291457286}; total time=   0.0s\n",
      "[CV] END class_weight={0: 0.6268341708542714, 1: 0.3731658291457286}; total time=   0.0s\n",
      "[CV] END class_weight={0: 0.6318090452261307, 1: 0.3681909547738693}; total time=   0.0s\n",
      "[CV] END class_weight={0: 0.6417587939698493, 1: 0.35824120603015075}; total time=   0.0s\n",
      "[CV] END class_weight={0: 0.6417587939698493, 1: 0.35824120603015075}; total time=   0.0s\n",
      "[CV] END class_weight={0: 0.6467336683417085, 1: 0.35326633165829147}; total time=   0.0s\n",
      "[CV] END class_weight={0: 0.6467336683417085, 1: 0.35326633165829147}; total time=   0.0s\n",
      "[CV] END class_weight={0: 0.6566834170854271, 1: 0.3433165829145729}; total time=   0.0s\n",
      "[CV] END class_weight={0: 0.6616582914572865, 1: 0.3383417085427135}; total time=   0.0s\n",
      "[CV] END class_weight={0: 0.6616582914572865, 1: 0.3383417085427135}; total time=   0.0s\n",
      "[CV] END class_weight={0: 0.6616582914572865, 1: 0.3383417085427135}; total time=   0.0s\n",
      "[CV] END class_weight={0: 0.6765829145728643, 1: 0.32341708542713565}; total time=   0.0s\n",
      "[CV] END class_weight={0: 0.6765829145728643, 1: 0.32341708542713565}; total time=   0.0s\n",
      "[CV] END class_weight={0: 0.6765829145728643, 1: 0.32341708542713565}; total time=   0.0s\n",
      "[CV] END class_weight={0: 0.6765829145728643, 1: 0.32341708542713565}; total time=   0.0s\n",
      "[CV] END class_weight={0: 0.6915075376884422, 1: 0.3084924623115578}; total time=   0.0s\n",
      "[CV] END class_weight={0: 0.6915075376884422, 1: 0.3084924623115578}; total time=   0.0s\n",
      "[CV] END class_weight={0: 0.6915075376884422, 1: 0.3084924623115578}; total time=   0.1s\n",
      "[CV] END class_weight={0: 0.6915075376884422, 1: 0.3084924623115578}; total time=   0.0s\n",
      "[CV] END class_weight={0: 0.7064321608040202, 1: 0.29356783919597984}; total time=   0.0s\n",
      "[CV] END class_weight={0: 0.7064321608040202, 1: 0.29356783919597984}; total time=   0.0s\n",
      "[CV] END class_weight={0: 0.7064321608040202, 1: 0.29356783919597984}; total time=   0.0s\n",
      "[CV] END class_weight={0: 0.7114070351758794, 1: 0.28859296482412056}; total time=   0.0s\n",
      "[CV] END class_weight={0: 0.721356783919598, 1: 0.278643216080402}; total time=   0.0s\n",
      "[CV] END class_weight={0: 0.36316582914572865, 1: 0.6368341708542713}; total time=   0.0s\n",
      "[CV] END class_weight={0: 0.36316582914572865, 1: 0.6368341708542713}; total time=   0.0s\n",
      "[CV] END class_weight={0: 0.36814070351758793, 1: 0.6318592964824121}; total time=   0.0s\n",
      "[CV] END class_weight={0: 0.36814070351758793, 1: 0.6318592964824121}; total time=   0.0s\n",
      "[CV] END class_weight={0: 0.37809045226130655, 1: 0.6219095477386934}; total time=   0.1s\n",
      "[CV] END class_weight={0: 0.38306532663316584, 1: 0.6169346733668342}; total time=   0.0s\n",
      "[CV] END class_weight={0: 0.38306532663316584, 1: 0.6169346733668342}; total time=   0.0s\n",
      "[CV] END class_weight={0: 0.38306532663316584, 1: 0.6169346733668342}; total time=   0.0s\n",
      "[CV] END class_weight={0: 0.39798994974874374, 1: 0.6020100502512562}; total time=   0.0s\n",
      "[CV] END class_weight={0: 0.39798994974874374, 1: 0.6020100502512562}; total time=   0.0s\n",
      "[CV] END class_weight={0: 0.39798994974874374, 1: 0.6020100502512562}; total time=   0.0s\n",
      "[CV] END class_weight={0: 0.39798994974874374, 1: 0.6020100502512562}; total time=   0.0s\n",
      "[CV] END class_weight={0: 0.4079396984924623, 1: 0.5920603015075376}; total time=   0.1s\n",
      "[CV] END class_weight={0: 0.4079396984924623, 1: 0.5920603015075376}; total time=   0.0s\n",
      "[CV] END class_weight={0: 0.4079396984924623, 1: 0.5920603015075376}; total time=   0.1s\n",
      "[CV] END class_weight={0: 0.4129145728643216, 1: 0.5870854271356785}; total time=   0.0s\n",
      "[CV] END class_weight={0: 0.4278391959798995, 1: 0.5721608040201005}; total time=   0.0s\n",
      "[CV] END class_weight={0: 0.4278391959798995, 1: 0.5721608040201005}; total time=   0.0s\n",
      "[CV] END class_weight={0: 0.4278391959798995, 1: 0.5721608040201005}; total time=   0.0s\n",
      "[CV] END class_weight={0: 0.4328140703517588, 1: 0.5671859296482412}; total time=   0.0s\n",
      "[CV] END class_weight={0: 0.4427638190954774, 1: 0.5572361809045225}; total time=   0.0s\n",
      "[CV] END class_weight={0: 0.4427638190954774, 1: 0.5572361809045225}; total time=   0.0s\n",
      "[CV] END class_weight={0: 0.4477386934673367, 1: 0.5522613065326634}; total time=   0.0s\n",
      "[CV] END class_weight={0: 0.4477386934673367, 1: 0.5522613065326634}; total time=   0.0s\n",
      "[CV] END class_weight={0: 0.4576884422110553, 1: 0.5423115577889447}; total time=   0.0s\n",
      "[CV] END class_weight={0: 0.4576884422110553, 1: 0.5423115577889447}; total time=   0.0s\n",
      "[CV] END class_weight={0: 0.4576884422110553, 1: 0.5423115577889447}; total time=   0.0s\n",
      "[CV] END class_weight={0: 0.4576884422110553, 1: 0.5423115577889447}; total time=   0.0s\n",
      "[CV] END class_weight={0: 0.47261306532663316, 1: 0.5273869346733668}; total time=   0.0s\n",
      "[CV] END class_weight={0: 0.47261306532663316, 1: 0.5273869346733668}; total time=   0.1s\n",
      "[CV] END class_weight={0: 0.47261306532663316, 1: 0.5273869346733668}; total time=   0.0s\n",
      "[CV] END class_weight={0: 0.47261306532663316, 1: 0.5273869346733668}; total time=   0.0s\n",
      "[CV] END class_weight={0: 0.48753768844221107, 1: 0.5124623115577889}; total time=   0.0s\n",
      "[CV] END class_weight={0: 0.48753768844221107, 1: 0.5124623115577889}; total time=   0.0s\n",
      "[CV] END class_weight={0: 0.48753768844221107, 1: 0.5124623115577889}; total time=   0.0s\n",
      "[CV] END class_weight={0: 0.49251256281407035, 1: 0.5074874371859297}; total time=   0.0s\n",
      "[CV] END class_weight={0: 0.502462311557789, 1: 0.497537688442211}; total time=   0.0s\n",
      "[CV] END class_weight={0: 0.502462311557789, 1: 0.497537688442211}; total time=   0.0s\n",
      "[CV] END class_weight={0: 0.5074371859296483, 1: 0.49256281407035174}; total time=   0.1s\n",
      "[CV] END class_weight={0: 0.5074371859296483, 1: 0.49256281407035174}; total time=   0.0s\n",
      "[CV] END class_weight={0: 0.5173869346733668, 1: 0.4826130653266332}; total time=   0.0s\n",
      "[CV] END class_weight={0: 0.5223618090452261, 1: 0.4776381909547739}; total time=   0.0s\n",
      "[CV] END class_weight={0: 0.5223618090452261, 1: 0.4776381909547739}; total time=   0.1s\n",
      "[CV] END class_weight={0: 0.5223618090452261, 1: 0.4776381909547739}; total time=   0.0s\n",
      "[CV] END class_weight={0: 0.5372864321608041, 1: 0.4627135678391959}; total time=   0.0s\n",
      "[CV] END class_weight={0: 0.5372864321608041, 1: 0.4627135678391959}; total time=   0.0s\n",
      "[CV] END class_weight={0: 0.5372864321608041, 1: 0.4627135678391959}; total time=   0.1s\n",
      "[CV] END class_weight={0: 0.5372864321608041, 1: 0.4627135678391959}; total time=   0.1s\n",
      "[CV] END class_weight={0: 0.5522110552763819, 1: 0.4477889447236181}; total time=   0.0s\n",
      "[CV] END class_weight={0: 0.5522110552763819, 1: 0.4477889447236181}; total time=   0.0s\n",
      "[CV] END class_weight={0: 0.5522110552763819, 1: 0.4477889447236181}; total time=   0.0s\n",
      "[CV] END class_weight={0: 0.5522110552763819, 1: 0.4477889447236181}; total time=   0.0s\n",
      "[CV] END class_weight={0: 0.5671356783919598, 1: 0.4328643216080402}; total time=   0.0s\n",
      "[CV] END class_weight={0: 0.5671356783919598, 1: 0.4328643216080402}; total time=   0.0s\n",
      "[CV] END class_weight={0: 0.5671356783919598, 1: 0.4328643216080402}; total time=   0.0s\n",
      "[CV] END class_weight={0: 0.5721105527638191, 1: 0.42788944723618094}; total time=   0.0s\n",
      "[CV] END class_weight={0: 0.587035175879397, 1: 0.412964824120603}; total time=   0.0s\n",
      "[CV] END class_weight={0: 0.587035175879397, 1: 0.412964824120603}; total time=   0.0s\n",
      "[CV] END class_weight={0: 0.587035175879397, 1: 0.412964824120603}; total time=   0.0s\n",
      "[CV] END class_weight={0: 0.5920100502512563, 1: 0.4079899497487437}; total time=   0.0s\n",
      "[CV] END class_weight={0: 0.6019597989949749, 1: 0.39804020100502513}; total time=   0.0s\n",
      "[CV] END class_weight={0: 0.6019597989949749, 1: 0.39804020100502513}; total time=   0.0s\n",
      "[CV] END class_weight={0: 0.6069346733668342, 1: 0.39306532663316585}; total time=   0.0s\n",
      "[CV] END class_weight={0: 0.6069346733668342, 1: 0.39306532663316585}; total time=   0.0s\n",
      "[CV] END class_weight={0: 0.6168844221105528, 1: 0.38311557788944717}; total time=   0.0s\n",
      "[CV] END class_weight={0: 0.6218592964824121, 1: 0.3781407035175879}; total time=   0.0s\n",
      "[CV] END class_weight={0: 0.6218592964824121, 1: 0.3781407035175879}; total time=   0.0s\n",
      "[CV] END class_weight={0: 0.6218592964824121, 1: 0.3781407035175879}; total time=   0.0s\n",
      "[CV] END class_weight={0: 0.63678391959799, 1: 0.36321608040201003}; total time=   0.0s\n",
      "[CV] END class_weight={0: 0.63678391959799, 1: 0.36321608040201003}; total time=   0.0s\n",
      "[CV] END class_weight={0: 0.63678391959799, 1: 0.36321608040201003}; total time=   0.0s\n",
      "[CV] END class_weight={0: 0.63678391959799, 1: 0.36321608040201003}; total time=   0.0s\n",
      "[CV] END class_weight={0: 0.6517085427135678, 1: 0.3482914572864322}; total time=   0.0s\n",
      "[CV] END class_weight={0: 0.6517085427135678, 1: 0.3482914572864322}; total time=   0.0s\n",
      "[CV] END class_weight={0: 0.6517085427135678, 1: 0.3482914572864322}; total time=   0.0s\n",
      "[CV] END class_weight={0: 0.6517085427135678, 1: 0.3482914572864322}; total time=   0.0s\n",
      "[CV] END class_weight={0: 0.6666331658291458, 1: 0.3333668341708542}; total time=   0.0s\n",
      "[CV] END class_weight={0: 0.6666331658291458, 1: 0.3333668341708542}; total time=   0.0s\n",
      "[CV] END class_weight={0: 0.6666331658291458, 1: 0.3333668341708542}; total time=   0.0s\n",
      "[CV] END class_weight={0: 0.6716080402010051, 1: 0.32839195979899494}; total time=   0.0s\n",
      "[CV] END class_weight={0: 0.6815577889447236, 1: 0.31844221105527637}; total time=   0.0s\n",
      "[CV] END class_weight={0: 0.6815577889447236, 1: 0.31844221105527637}; total time=   0.0s\n",
      "[CV] END class_weight={0: 0.6865326633165829, 1: 0.3134673366834171}; total time=   0.0s\n",
      "[CV] END class_weight={0: 0.6865326633165829, 1: 0.3134673366834171}; total time=   0.0s\n",
      "[CV] END class_weight={0: 0.6964824120603015, 1: 0.3035175879396985}; total time=   0.0s\n",
      "[CV] END class_weight={0: 0.6964824120603015, 1: 0.3035175879396985}; total time=   0.0s\n",
      "[CV] END class_weight={0: 0.6964824120603015, 1: 0.3035175879396985}; total time=   0.0s\n",
      "[CV] END class_weight={0: 0.6964824120603015, 1: 0.3035175879396985}; total time=   0.0s\n",
      "[CV] END class_weight={0: 0.7114070351758794, 1: 0.28859296482412056}; total time=   0.0s\n",
      "[CV] END class_weight={0: 0.7114070351758794, 1: 0.28859296482412056}; total time=   0.0s\n",
      "[CV] END class_weight={0: 0.7114070351758794, 1: 0.28859296482412056}; total time=   0.0s\n",
      "[CV] END class_weight={0: 0.7114070351758794, 1: 0.28859296482412056}; total time=   0.0s\n",
      "[CV] END class_weight={0: 0.36814070351758793, 1: 0.6318592964824121}; total time=   0.0s\n",
      "[CV] END class_weight={0: 0.36814070351758793, 1: 0.6318592964824121}; total time=   0.0s\n",
      "[CV] END class_weight={0: 0.37311557788944727, 1: 0.6268844221105527}; total time=   0.1s\n",
      "[CV] END class_weight={0: 0.3880402010050251, 1: 0.6119597989949749}; total time=   0.0s\n",
      "[CV] END class_weight={0: 0.3880402010050251, 1: 0.6119597989949749}; total time=   0.0s\n",
      "[CV] END class_weight={0: 0.3880402010050251, 1: 0.6119597989949749}; total time=   0.0s\n",
      "[CV] END class_weight={0: 0.39301507537688446, 1: 0.6069849246231156}; total time=   0.0s\n",
      "[CV] END class_weight={0: 0.402964824120603, 1: 0.597035175879397}; total time=   0.0s\n",
      "[CV] END class_weight={0: 0.402964824120603, 1: 0.597035175879397}; total time=   0.0s\n",
      "[CV] END class_weight={0: 0.4079396984924623, 1: 0.5920603015075376}; total time=   0.1s\n",
      "[CV] END class_weight={0: 0.4079396984924623, 1: 0.5920603015075376}; total time=   0.0s\n",
      "[CV] END class_weight={0: 0.41788944723618093, 1: 0.5821105527638191}; total time=   0.0s\n",
      "[CV] END class_weight={0: 0.4228643216080402, 1: 0.5771356783919598}; total time=   0.0s\n",
      "[CV] END class_weight={0: 0.4228643216080402, 1: 0.5771356783919598}; total time=   0.0s\n",
      "[CV] END class_weight={0: 0.4228643216080402, 1: 0.5771356783919598}; total time=   0.0s\n",
      "[CV] END class_weight={0: 0.4377889447236181, 1: 0.5622110552763819}; total time=   0.0s\n",
      "[CV] END class_weight={0: 0.4377889447236181, 1: 0.5622110552763819}; total time=   0.0s\n",
      "[CV] END class_weight={0: 0.4377889447236181, 1: 0.5622110552763819}; total time=   0.0s\n",
      "[CV] END class_weight={0: 0.4377889447236181, 1: 0.5622110552763819}; total time=   0.0s\n",
      "[CV] END class_weight={0: 0.4477386934673367, 1: 0.5522613065326634}; total time=   0.0s\n",
      "[CV] END class_weight={0: 0.4477386934673367, 1: 0.5522613065326634}; total time=   0.0s\n",
      "[CV] END class_weight={0: 0.4477386934673367, 1: 0.5522613065326634}; total time=   0.0s\n",
      "[CV] END class_weight={0: 0.452713567839196, 1: 0.547286432160804}; total time=   0.1s\n",
      "[CV] END class_weight={0: 0.4576884422110553, 1: 0.5423115577889447}; total time=   0.1s\n",
      "[CV] END class_weight={0: 0.4626633165829146, 1: 0.5373366834170854}; total time=   0.0s\n",
      "[CV] END class_weight={0: 0.4626633165829146, 1: 0.5373366834170854}; total time=   0.0s\n",
      "[CV] END class_weight={0: 0.4626633165829146, 1: 0.5373366834170854}; total time=   0.0s\n",
      "[CV] END class_weight={0: 0.47758793969849245, 1: 0.5224120603015076}; total time=   0.0s\n",
      "[CV] END class_weight={0: 0.4825628140703518, 1: 0.5174371859296483}; total time=   0.0s\n",
      "[CV] END class_weight={0: 0.4825628140703518, 1: 0.5174371859296483}; total time=   0.1s\n",
      "[CV] END class_weight={0: 0.4825628140703518, 1: 0.5174371859296483}; total time=   0.0s\n",
      "[CV] END class_weight={0: 0.49251256281407035, 1: 0.5074874371859297}; total time=   0.0s\n",
      "[CV] END class_weight={0: 0.49251256281407035, 1: 0.5074874371859297}; total time=   0.0s\n",
      "[CV] END class_weight={0: 0.49251256281407035, 1: 0.5074874371859297}; total time=   0.0s\n",
      "[CV] END class_weight={0: 0.49251256281407035, 1: 0.5074874371859297}; total time=   0.0s\n",
      "[CV] END class_weight={0: 0.5074371859296483, 1: 0.49256281407035174}; total time=   0.0s\n",
      "[CV] END class_weight={0: 0.5074371859296483, 1: 0.49256281407035174}; total time=   0.0s\n",
      "[CV] END class_weight={0: 0.5074371859296483, 1: 0.49256281407035174}; total time=   0.1s\n",
      "[CV] END class_weight={0: 0.5124120603015075, 1: 0.48758793969849246}; total time=   0.0s\n",
      "[CV] END class_weight={0: 0.5323115577889448, 1: 0.4676884422110552}; total time=   0.0s\n",
      "[CV] END class_weight={0: 0.5323115577889448, 1: 0.4676884422110552}; total time=   0.0s\n",
      "[CV] END class_weight={0: 0.5323115577889448, 1: 0.4676884422110552}; total time=   0.0s\n",
      "[CV] END class_weight={0: 0.5323115577889448, 1: 0.4676884422110552}; total time=   0.0s\n",
      "[CV] END class_weight={0: 0.5472361809045226, 1: 0.45276381909547736}; total time=   0.0s\n",
      "[CV] END class_weight={0: 0.5472361809045226, 1: 0.45276381909547736}; total time=   0.0s\n",
      "[CV] END class_weight={0: 0.5472361809045226, 1: 0.45276381909547736}; total time=   0.0s\n",
      "[CV] END class_weight={0: 0.5522110552763819, 1: 0.4477889447236181}; total time=   0.1s\n",
      "[CV] END class_weight={0: 0.5571859296482412, 1: 0.4428140703517588}; total time=   0.0s\n",
      "[CV] END class_weight={0: 0.5621608040201005, 1: 0.4378391959798995}; total time=   0.0s\n",
      "[CV] END class_weight={0: 0.5621608040201005, 1: 0.4378391959798995}; total time=   0.0s\n",
      "[CV] END class_weight={0: 0.5621608040201005, 1: 0.4378391959798995}; total time=   0.0s\n",
      "[CV] END class_weight={0: 0.5770854271356785, 1: 0.42291457286432155}; total time=   0.0s\n",
      "[CV] END class_weight={0: 0.5770854271356785, 1: 0.42291457286432155}; total time=   0.0s\n",
      "[CV] END class_weight={0: 0.5770854271356785, 1: 0.42291457286432155}; total time=   0.0s\n",
      "[CV] END class_weight={0: 0.5770854271356785, 1: 0.42291457286432155}; total time=   0.0s\n",
      "[CV] END class_weight={0: 0.5920100502512563, 1: 0.4079899497487437}; total time=   0.0s\n",
      "[CV] END class_weight={0: 0.5920100502512563, 1: 0.4079899497487437}; total time=   0.0s\n",
      "[CV] END class_weight={0: 0.5920100502512563, 1: 0.4079899497487437}; total time=   0.0s\n",
      "[CV] END class_weight={0: 0.5920100502512563, 1: 0.4079899497487437}; total time=   0.0s\n",
      "[CV] END class_weight={0: 0.6069346733668342, 1: 0.39306532663316585}; total time=   0.0s\n",
      "[CV] END class_weight={0: 0.6069346733668342, 1: 0.39306532663316585}; total time=   0.0s\n",
      "[CV] END class_weight={0: 0.6069346733668342, 1: 0.39306532663316585}; total time=   0.0s\n",
      "[CV] END class_weight={0: 0.6119095477386934, 1: 0.38809045226130656}; total time=   0.0s\n",
      "[CV] END class_weight={0: 0.6218592964824121, 1: 0.3781407035175879}; total time=   0.0s\n",
      "[CV] END class_weight={0: 0.6218592964824121, 1: 0.3781407035175879}; total time=   0.0s\n",
      "[CV] END class_weight={0: 0.6268341708542714, 1: 0.3731658291457286}; total time=   0.0s\n",
      "[CV] END class_weight={0: 0.6268341708542714, 1: 0.3731658291457286}; total time=   0.0s\n",
      "[CV] END class_weight={0: 0.63678391959799, 1: 0.36321608040201003}; total time=   0.0s\n",
      "[CV] END class_weight={0: 0.6417587939698493, 1: 0.35824120603015075}; total time=   0.0s\n",
      "[CV] END class_weight={0: 0.6417587939698493, 1: 0.35824120603015075}; total time=   0.1s\n",
      "[CV] END class_weight={0: 0.6417587939698493, 1: 0.35824120603015075}; total time=   0.0s\n",
      "[CV] END class_weight={0: 0.6566834170854271, 1: 0.3433165829145729}; total time=   0.0s\n",
      "[CV] END class_weight={0: 0.6566834170854271, 1: 0.3433165829145729}; total time=   0.0s\n",
      "[CV] END class_weight={0: 0.6566834170854271, 1: 0.3433165829145729}; total time=   0.1s\n",
      "[CV] END class_weight={0: 0.6566834170854271, 1: 0.3433165829145729}; total time=   0.0s\n",
      "[CV] END class_weight={0: 0.6716080402010051, 1: 0.32839195979899494}; total time=   0.0s\n",
      "[CV] END class_weight={0: 0.6716080402010051, 1: 0.32839195979899494}; total time=   0.0s\n",
      "[CV] END class_weight={0: 0.6716080402010051, 1: 0.32839195979899494}; total time=   0.0s\n",
      "[CV] END class_weight={0: 0.6716080402010051, 1: 0.32839195979899494}; total time=   0.0s\n",
      "[CV] END class_weight={0: 0.6865326633165829, 1: 0.3134673366834171}; total time=   0.0s\n",
      "[CV] END class_weight={0: 0.6865326633165829, 1: 0.3134673366834171}; total time=   0.0s\n",
      "[CV] END class_weight={0: 0.6865326633165829, 1: 0.3134673366834171}; total time=   0.0s\n",
      "[CV] END class_weight={0: 0.6915075376884422, 1: 0.3084924623115578}; total time=   0.0s\n",
      "[CV] END class_weight={0: 0.7014572864321609, 1: 0.2985427135678391}; total time=   0.1s\n",
      "[CV] END class_weight={0: 0.7014572864321609, 1: 0.2985427135678391}; total time=   0.1s\n",
      "[CV] END class_weight={0: 0.7064321608040202, 1: 0.29356783919597984}; total time=   0.1s\n",
      "[CV] END class_weight={0: 0.7064321608040202, 1: 0.29356783919597984}; total time=   0.0s\n",
      "[CV] END class_weight={0: 0.7163819095477387, 1: 0.2836180904522613}; total time=   0.0s\n",
      "[CV] END class_weight={0: 0.721356783919598, 1: 0.278643216080402}; total time=   0.0s\n",
      "[CV] END class_weight={0: 0.721356783919598, 1: 0.278643216080402}; total time=   0.0s\n",
      "[CV] END class_weight={0: 0.721356783919598, 1: 0.278643216080402}; total time=   0.0s\n",
      "[CV] END class_weight={0: 0.7362814070351759, 1: 0.26371859296482414}; total time=   0.0s\n",
      "[CV] END class_weight={0: 0.36316582914572865, 1: 0.6368341708542713}; total time=   0.0s\n",
      "[CV] END class_weight={0: 0.36316582914572865, 1: 0.6368341708542713}; total time=   0.0s\n",
      "[CV] END class_weight={0: 0.37809045226130655, 1: 0.6219095477386934}; total time=   0.0s\n",
      "[CV] END class_weight={0: 0.37809045226130655, 1: 0.6219095477386934}; total time=   0.0s\n",
      "[CV] END class_weight={0: 0.37809045226130655, 1: 0.6219095477386934}; total time=   0.0s\n",
      "[CV] END class_weight={0: 0.37809045226130655, 1: 0.6219095477386934}; total time=   0.0s\n",
      "[CV] END class_weight={0: 0.39301507537688446, 1: 0.6069849246231156}; total time=   0.0s\n",
      "[CV] END class_weight={0: 0.39301507537688446, 1: 0.6069849246231156}; total time=   0.0s\n",
      "[CV] END class_weight={0: 0.39301507537688446, 1: 0.6069849246231156}; total time=   0.0s\n",
      "[CV] END class_weight={0: 0.39301507537688446, 1: 0.6069849246231156}; total time=   0.0s\n",
      "[CV] END class_weight={0: 0.4129145728643216, 1: 0.5870854271356785}; total time=   0.1s\n",
      "[CV] END class_weight={0: 0.4129145728643216, 1: 0.5870854271356785}; total time=   0.0s\n",
      "[CV] END class_weight={0: 0.4129145728643216, 1: 0.5870854271356785}; total time=   0.0s\n",
      "[CV] END class_weight={0: 0.4129145728643216, 1: 0.5870854271356785}; total time=   0.0s\n",
      "[CV] END class_weight={0: 0.4228643216080402, 1: 0.5771356783919598}; total time=   0.0s\n",
      "[CV] END class_weight={0: 0.4228643216080402, 1: 0.5771356783919598}; total time=   0.0s\n",
      "[CV] END class_weight={0: 0.4278391959798995, 1: 0.5721608040201005}; total time=   0.0s\n",
      "[CV] END class_weight={0: 0.4278391959798995, 1: 0.5721608040201005}; total time=   0.0s\n",
      "[CV] END class_weight={0: 0.4377889447236181, 1: 0.5622110552763819}; total time=   0.0s\n",
      "[CV] END class_weight={0: 0.4427638190954774, 1: 0.5572361809045225}; total time=   0.0s\n",
      "[CV] END class_weight={0: 0.4427638190954774, 1: 0.5572361809045225}; total time=   0.1s\n",
      "[CV] END class_weight={0: 0.4427638190954774, 1: 0.5572361809045225}; total time=   0.1s\n",
      "[CV] END class_weight={0: 0.4626633165829146, 1: 0.5373366834170854}; total time=   0.0s\n",
      "[CV] END class_weight={0: 0.4626633165829146, 1: 0.5373366834170854}; total time=   0.0s\n",
      "[CV] END class_weight={0: 0.4676381909547739, 1: 0.5323618090452261}; total time=   0.0s\n",
      "[CV] END class_weight={0: 0.4676381909547739, 1: 0.5323618090452261}; total time=   0.0s\n",
      "[CV] END class_weight={0: 0.47758793969849245, 1: 0.5224120603015076}; total time=   0.0s\n",
      "[CV] END class_weight={0: 0.47758793969849245, 1: 0.5224120603015076}; total time=   0.0s\n",
      "[CV] END class_weight={0: 0.47758793969849245, 1: 0.5224120603015076}; total time=   0.1s\n",
      "[CV] END class_weight={0: 0.47758793969849245, 1: 0.5224120603015076}; total time=   0.1s\n",
      "[CV] END class_weight={0: 0.49748743718592964, 1: 0.5025125628140703}; total time=   0.0s\n",
      "[CV] END class_weight={0: 0.49748743718592964, 1: 0.5025125628140703}; total time=   0.0s\n",
      "[CV] END class_weight={0: 0.49748743718592964, 1: 0.5025125628140703}; total time=   0.0s\n",
      "[CV] END class_weight={0: 0.49748743718592964, 1: 0.5025125628140703}; total time=   0.0s\n",
      "[CV] END class_weight={0: 0.5124120603015075, 1: 0.48758793969849246}; total time=   0.0s\n",
      "[CV] END class_weight={0: 0.5124120603015075, 1: 0.48758793969849246}; total time=   0.0s\n",
      "[CV] END class_weight={0: 0.5124120603015075, 1: 0.48758793969849246}; total time=   0.0s\n",
      "[CV] END class_weight={0: 0.5124120603015075, 1: 0.48758793969849246}; total time=   0.0s\n",
      "[CV] END class_weight={0: 0.5223618090452261, 1: 0.4776381909547739}; total time=   0.0s\n",
      "[CV] END class_weight={0: 0.5223618090452261, 1: 0.4776381909547739}; total time=   0.0s\n",
      "[CV] END class_weight={0: 0.5273366834170854, 1: 0.4726633165829146}; total time=   0.0s\n",
      "[CV] END class_weight={0: 0.5273366834170854, 1: 0.4726633165829146}; total time=   0.0s\n",
      "[CV] END class_weight={0: 0.5422613065326634, 1: 0.45773869346733664}; total time=   0.0s\n",
      "[CV] END class_weight={0: 0.5422613065326634, 1: 0.45773869346733664}; total time=   0.1s\n",
      "[CV] END class_weight={0: 0.5472361809045226, 1: 0.45276381909547736}; total time=   0.1s\n",
      "[CV] END class_weight={0: 0.5472361809045226, 1: 0.45276381909547736}; total time=   0.0s\n",
      "[CV] END class_weight={0: 0.5621608040201005, 1: 0.4378391959798995}; total time=   0.0s\n",
      "[CV] END class_weight={0: 0.5621608040201005, 1: 0.4378391959798995}; total time=   0.0s\n",
      "[CV] END class_weight={0: 0.5671356783919598, 1: 0.4328643216080402}; total time=   0.0s\n",
      "[CV] END class_weight={0: 0.5671356783919598, 1: 0.4328643216080402}; total time=   0.0s\n",
      "[CV] END class_weight={0: 0.5770854271356785, 1: 0.42291457286432155}; total time=   0.0s\n",
      "[CV] END class_weight={0: 0.5820603015075377, 1: 0.41793969849246226}; total time=   0.0s\n",
      "[CV] END class_weight={0: 0.5820603015075377, 1: 0.41793969849246226}; total time=   0.0s\n",
      "[CV] END class_weight={0: 0.5820603015075377, 1: 0.41793969849246226}; total time=   0.0s\n",
      "[CV] END class_weight={0: 0.5969849246231156, 1: 0.4030150753768844}; total time=   0.1s\n",
      "[CV] END class_weight={0: 0.5969849246231156, 1: 0.4030150753768844}; total time=   0.1s\n",
      "[CV] END class_weight={0: 0.5969849246231156, 1: 0.4030150753768844}; total time=   0.0s\n",
      "[CV] END class_weight={0: 0.5969849246231156, 1: 0.4030150753768844}; total time=   0.1s\n",
      "[CV] END class_weight={0: 0.6168844221105528, 1: 0.38311557788944717}; total time=   0.0s\n",
      "[CV] END class_weight={0: 0.6168844221105528, 1: 0.38311557788944717}; total time=   0.0s\n",
      "[CV] END class_weight={0: 0.6168844221105528, 1: 0.38311557788944717}; total time=   0.0s\n",
      "[CV] END class_weight={0: 0.6168844221105528, 1: 0.38311557788944717}; total time=   0.0s\n",
      "[CV] END class_weight={0: 0.6318090452261307, 1: 0.3681909547738693}; total time=   0.0s\n",
      "[CV] END class_weight={0: 0.6318090452261307, 1: 0.3681909547738693}; total time=   0.0s\n",
      "[CV] END class_weight={0: 0.6318090452261307, 1: 0.3681909547738693}; total time=   0.0s\n",
      "[CV] END class_weight={0: 0.6318090452261307, 1: 0.3681909547738693}; total time=   0.0s\n",
      "[CV] END class_weight={0: 0.6467336683417085, 1: 0.35326633165829147}; total time=   0.0s\n",
      "[CV] END class_weight={0: 0.6467336683417085, 1: 0.35326633165829147}; total time=   0.0s\n",
      "[CV] END class_weight={0: 0.6467336683417085, 1: 0.35326633165829147}; total time=   0.0s\n",
      "[CV] END class_weight={0: 0.6517085427135678, 1: 0.3482914572864322}; total time=   0.0s\n",
      "[CV] END class_weight={0: 0.6616582914572865, 1: 0.3383417085427135}; total time=   0.1s\n",
      "[CV] END class_weight={0: 0.6616582914572865, 1: 0.3383417085427135}; total time=   0.0s\n",
      "[CV] END class_weight={0: 0.6666331658291458, 1: 0.3333668341708542}; total time=   0.0s\n",
      "[CV] END class_weight={0: 0.6666331658291458, 1: 0.3333668341708542}; total time=   0.0s\n",
      "[CV] END class_weight={0: 0.6765829145728643, 1: 0.32341708542713565}; total time=   0.1s\n",
      "[CV] END class_weight={0: 0.6815577889447236, 1: 0.31844221105527637}; total time=   0.1s\n",
      "[CV] END class_weight={0: 0.6815577889447236, 1: 0.31844221105527637}; total time=   0.0s\n",
      "[CV] END class_weight={0: 0.6815577889447236, 1: 0.31844221105527637}; total time=   0.0s\n",
      "[CV] END class_weight={0: 0.6964824120603015, 1: 0.3035175879396985}; total time=   0.0s\n",
      "[CV] END class_weight={0: 0.7014572864321609, 1: 0.2985427135678391}; total time=   0.0s\n",
      "[CV] END class_weight={0: 0.7014572864321609, 1: 0.2985427135678391}; total time=   0.0s\n",
      "[CV] END class_weight={0: 0.7014572864321609, 1: 0.2985427135678391}; total time=   0.0s\n",
      "[CV] END class_weight={0: 0.7163819095477387, 1: 0.2836180904522613}; total time=   0.0s\n",
      "[CV] END class_weight={0: 0.7163819095477387, 1: 0.2836180904522613}; total time=   0.0s\n",
      "[CV] END class_weight={0: 0.7163819095477387, 1: 0.2836180904522613}; total time=   0.1s\n",
      "[CV] END class_weight={0: 0.7163819095477387, 1: 0.2836180904522613}; total time=   0.0s\n",
      "[CV] END class_weight={0: 0.7313065326633166, 1: 0.2686934673366834}; total time=   0.0s\n",
      "[CV] END class_weight={0: 0.7313065326633166, 1: 0.2686934673366834}; total time=   0.0s\n",
      "[CV] END class_weight={0: 0.7313065326633166, 1: 0.2686934673366834}; total time=   0.0s\n",
      "[CV] END class_weight={0: 0.7313065326633166, 1: 0.2686934673366834}; total time=   0.1s\n",
      "[CV] END class_weight={0: 0.7462311557788945, 1: 0.25376884422110546}; total time=   0.0s\n",
      "[CV] END class_weight={0: 0.7462311557788945, 1: 0.25376884422110546}; total time=   0.0s"
     ]
    }
   ],
   "source": [
    "from sklearn.model_selection import GridSearchCV, StratifiedKFold\n",
    "mw_lr = LogisticRegression(solver='newton-cg')\n",
    "\n",
    "#Setting the range for class weights\n",
    "weights = np.linspace(0.0,0.99,200)\n",
    "\n",
    "#Creating a dictionary grid for grid search\n",
    "param_grid = {'class_weight': [{0:x, 1:1.0-x} for x in weights]}\n",
    "\n",
    "#Fitting grid search to the train data with 5 folds\n",
    "gridsearch = GridSearchCV(estimator= mw_lr, \n",
    "                          param_grid= param_grid,\n",
    "                          cv=StratifiedKFold(), \n",
    "                          n_jobs=-1, \n",
    "                          scoring='f1_macro', \n",
    "                          verbose=2).fit(x_train, y_train)"
   ]
  },
  {
   "cell_type": "code",
   "execution_count": 22,
   "id": "1d56fef4",
   "metadata": {
    "execution": {
     "iopub.execute_input": "2022-08-05T12:41:41.688238Z",
     "iopub.status.busy": "2022-08-05T12:41:41.687542Z",
     "iopub.status.idle": "2022-08-05T12:41:42.034847Z",
     "shell.execute_reply": "2022-08-05T12:41:42.033600Z"
    },
    "papermill": {
     "duration": 0.383514,
     "end_time": "2022-08-05T12:41:42.036840",
     "exception": false,
     "start_time": "2022-08-05T12:41:41.653326",
     "status": "completed"
    },
    "tags": []
   },
   "outputs": [
    {
     "name": "stdout",
     "output_type": "stream",
     "text": [
      "0.5670465730992132\n"
     ]
    },
    {
     "data": {
      "image/png": "[encoded data removed]",
      "text/plain": [
       "<Figure size 864x576 with 1 Axes>"
      ]
     },
     "metadata": {},
     "output_type": "display_data"
    }
   ],
   "source": [
    "#Ploting the score for different values of weight\n",
    "sns.set_style('whitegrid')\n",
    "plt.figure(figsize=(12,8))\n",
    "weigh_data = pd.DataFrame({ 'score': gridsearch.cv_results_['mean_test_score'], 'weight': (1- weights)})\n",
    "sns.lineplot(weigh_data['weight'], weigh_data['score'])\n",
    "plt.xlabel('Weight for class 1')\n",
    "plt.ylabel('F1 score')\n",
    "plt.xticks([round(i/10,1) for i in range(0,11,1)])\n",
    "plt.title('Scoring for different class weights', fontsize=24)\n",
    "print(weigh_data.score.max())"
   ]
  },
  {
   "cell_type": "code",
   "execution_count": 23,
   "id": "a271f28b",
   "metadata": {
    "execution": {
     "iopub.execute_input": "2022-08-05T12:41:42.063810Z",
     "iopub.status.busy": "2022-08-05T12:41:42.063430Z",
     "iopub.status.idle": "2022-08-05T12:41:42.072753Z",
     "shell.execute_reply": "2022-08-05T12:41:42.071719Z"
    },
    "papermill": {
     "duration": 0.025283,
     "end_time": "2022-08-05T12:41:42.074812",
     "exception": false,
     "start_time": "2022-08-05T12:41:42.049529",
     "status": "completed"
    },
    "tags": []
   },
   "outputs": [
    {
     "data": {
      "text/plain": [
       "LogisticRegression(class_weight={0: 0.4079396984924623, 1: 0.5920603015075376},\n",
       "                   solver='newton-cg')"
      ]
     },
     "execution_count": 23,
     "metadata": {},
     "output_type": "execute_result"
    }
   ],
   "source": [
    "gridsearch.best_estimator_"
   ]
  },
  {
   "cell_type": "code",
   "execution_count": 24,
   "id": "0c3e5914",
   "metadata": {
    "execution": {
     "iopub.execute_input": "2022-08-05T12:41:42.102807Z",
     "iopub.status.busy": "2022-08-05T12:41:42.102190Z",
     "iopub.status.idle": "2022-08-05T12:41:42.152668Z",
     "shell.execute_reply": "2022-08-05T12:41:42.151269Z"
    },
    "papermill": {
     "duration": 0.071203,
     "end_time": "2022-08-05T12:41:42.159084",
     "exception": false,
     "start_time": "2022-08-05T12:41:42.087881",
     "status": "completed"
    },
    "tags": []
   },
   "outputs": [
    {
     "name": "stdout",
     "output_type": "stream",
     "text": [
      "The f1 score for the testing data: 0.5139360978925901\n"
     ]
    }
   ],
   "source": [
    "w_lr = LogisticRegression(solver='newton-cg', class_weight={0: 0.4079396984924623, 1: 0.5920603015075376})\n",
    "w_lr.fit(x_train, y_train)\n",
    "pred_test = w_lr.predict(x_test)\n",
    "f1_test = f1_score(y_test, pred_test)\n",
    "print('The f1 score for the testing data:', f1_test)"
   ]
  },
  {
   "cell_type": "code",
   "execution_count": 25,
   "id": "c5445b97",
   "metadata": {
    "execution": {
     "iopub.execute_input": "2022-08-05T12:41:42.236718Z",
     "iopub.status.busy": "2022-08-05T12:41:42.236035Z",
     "iopub.status.idle": "2022-08-05T12:41:42.410407Z",
     "shell.execute_reply": "2022-08-05T12:41:42.409562Z"
    },
    "papermill": {
     "duration": 0.215508,
     "end_time": "2022-08-05T12:41:42.412701",
     "exception": false,
     "start_time": "2022-08-05T12:41:42.197193",
     "status": "completed"
    },
    "tags": []
   },
   "outputs": [
    {
     "name": "stdout",
     "output_type": "stream",
     "text": [
      "              precision    recall  f1-score   support\n",
      "\n",
      "           0       0.69      0.59      0.64      1053\n",
      "           1       0.47      0.57      0.51       664\n",
      "\n",
      "    accuracy                           0.58      1717\n",
      "   macro avg       0.58      0.58      0.57      1717\n",
      "weighted avg       0.60      0.58      0.59      1717\n",
      "\n"
     ]
    },
    {
     "data": {
      "image/png": "[encoded data removed]",
      "text/plain": [
       "<Figure size 216x216 with 1 Axes>"
      ]
     },
     "metadata": {},
     "output_type": "display_data"
    }
   ],
   "source": [
    "conf_matrix(y_test, pred_test)\n",
    "print(classification_report(y_test,pred_test))"
   ]
  },
  {
   "cell_type": "markdown",
   "id": "b3e4e85d",
   "metadata": {
    "papermill": {
     "duration": 0.013229,
     "end_time": "2022-08-05T12:41:42.441427",
     "exception": false,
     "start_time": "2022-08-05T12:41:42.428198",
     "status": "completed"
    },
    "tags": []
   },
   "source": [
    "# Prediction"
   ]
  },
  {
   "cell_type": "code",
   "execution_count": 26,
   "id": "fa616f28",
   "metadata": {
    "execution": {
     "iopub.execute_input": "2022-08-05T12:41:42.470555Z",
     "iopub.status.busy": "2022-08-05T12:41:42.469962Z",
     "iopub.status.idle": "2022-08-05T12:41:42.485223Z",
     "shell.execute_reply": "2022-08-05T12:41:42.483716Z"
    },
    "papermill": {
     "duration": 0.034758,
     "end_time": "2022-08-05T12:41:42.489203",
     "exception": false,
     "start_time": "2022-08-05T12:41:42.454445",
     "status": "completed"
    },
    "tags": []
   },
   "outputs": [],
   "source": [
    "threshold=0.5\n",
    "\n",
    "test=test_n[feature_col]\n",
    "pred_t = s_lr.predict(test)\n",
    "prob_test_t=w_lr.predict_proba(test) \n",
    "pred_t=np.where(prob_test_t[:,1]>threshold,1,0)"
   ]
  }
 ],
 "metadata": {
  "kernelspec": {
   "display_name": "Python 3",
   "language": "python",
   "name": "python3"
  },
  "language_info": {
   "codemirror_mode": {
    "name": "ipython",
    "version": 3
   },
   "file_extension": ".py",
   "mimetype": "text/x-python",
   "name": "python",
   "nbconvert_exporter": "python",
   "pygments_lexer": "ipython3",
   "version": "3.7.12"
  },
  "papermill": {
   "default_parameters": {},
   "duration": 38.905223,
   "end_time": "2022-08-05T12:41:45.145886",
   "environment_variables": {},
   "exception": null,
   "input_path": "__notebook__.ipynb",
   "output_path": "__notebook__.ipynb",
   "parameters": {},
   "start_time": "2022-08-05T12:41:06.240663",
   "version": "2.3.4"
  }
 },
 "nbformat": 4,
 "nbformat_minor": 5
}
